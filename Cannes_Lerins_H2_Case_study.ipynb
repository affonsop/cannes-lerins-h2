{
  "cells": [
    {
      "cell_type": "markdown",
      "id": "28c070a4",
      "metadata": {
        "id": "28c070a4"
      },
      "source": [
        "# Cannes Lerins H2 - Case study\n",
        "\n",
        "*Pedro AFFONSO NOBREGA, Yassine ABDELOUADOUD - September 2025*\n",
        "\n",
        "In 2023 the Cannes Lerins H2 project has been awarded in the \"Ecosystèmes Territoriaux\" call for projects from the French agency ADEME. The project intends to build a hydrogen refueling station (HRS) with 800 kg/day capacity, in order to support the deployment of 41 hydrogen buses. The HRS will be located in the bus deposit and will include an onsite hydrogen production by electrolysis and a storage capacity of 1 ton of hydrogen. In this suite of case studies we will analyse how this 800 kg/day hydrogen demand could be supplied, with which electricity this hydrogen could be produced and at which cost."
      ]
    },
    {
      "cell_type": "code",
      "source": [
        "%pip install pommes_craft\n",
        "%pip install pvlib"
      ],
      "metadata": {
        "colab": {
          "base_uri": "https://localhost:8080/"
        },
        "id": "euNnbxQ6a0W8",
        "outputId": "e4cdde57-2ce5-4f02-81f9-734fe0d4aafd"
      },
      "id": "euNnbxQ6a0W8",
      "execution_count": 4,
      "outputs": [
        {
          "output_type": "stream",
          "name": "stdout",
          "text": [
            "Collecting pommes_craft\n",
            "  Downloading pommes_craft-0.1.0-py3-none-any.whl.metadata (6.6 kB)\n",
            "Requirement already satisfied: polars>=0.18.0 in /usr/local/lib/python3.12/dist-packages (from pommes_craft) (1.25.2)\n",
            "Requirement already satisfied: pyyaml>=6.0 in /usr/local/lib/python3.12/dist-packages (from pommes_craft) (6.0.2)\n",
            "Requirement already satisfied: matplotlib>=3.5.0 in /usr/local/lib/python3.12/dist-packages (from pommes_craft) (3.10.0)\n",
            "Requirement already satisfied: numpy>=1.20.0 in /usr/local/lib/python3.12/dist-packages (from pommes_craft) (2.0.2)\n",
            "Requirement already satisfied: pyarrow in /usr/local/lib/python3.12/dist-packages (from pommes_craft) (18.1.0)\n",
            "Collecting pommes (from pommes_craft)\n",
            "  Downloading pommes-0.2.3-py3-none-any.whl.metadata (7.4 kB)\n",
            "Requirement already satisfied: contourpy>=1.0.1 in /usr/local/lib/python3.12/dist-packages (from matplotlib>=3.5.0->pommes_craft) (1.3.3)\n",
            "Requirement already satisfied: cycler>=0.10 in /usr/local/lib/python3.12/dist-packages (from matplotlib>=3.5.0->pommes_craft) (0.12.1)\n",
            "Requirement already satisfied: fonttools>=4.22.0 in /usr/local/lib/python3.12/dist-packages (from matplotlib>=3.5.0->pommes_craft) (4.60.0)\n",
            "Requirement already satisfied: kiwisolver>=1.3.1 in /usr/local/lib/python3.12/dist-packages (from matplotlib>=3.5.0->pommes_craft) (1.4.9)\n",
            "Requirement already satisfied: packaging>=20.0 in /usr/local/lib/python3.12/dist-packages (from matplotlib>=3.5.0->pommes_craft) (25.0)\n",
            "Requirement already satisfied: pillow>=8 in /usr/local/lib/python3.12/dist-packages (from matplotlib>=3.5.0->pommes_craft) (11.3.0)\n",
            "Requirement already satisfied: pyparsing>=2.3.1 in /usr/local/lib/python3.12/dist-packages (from matplotlib>=3.5.0->pommes_craft) (3.2.4)\n",
            "Requirement already satisfied: python-dateutil>=2.7 in /usr/local/lib/python3.12/dist-packages (from matplotlib>=3.5.0->pommes_craft) (2.9.0.post0)\n",
            "Requirement already satisfied: pandas in /usr/local/lib/python3.12/dist-packages (from pommes->pommes_craft) (2.2.2)\n",
            "Requirement already satisfied: xarray in /usr/local/lib/python3.12/dist-packages (from pommes->pommes_craft) (2025.9.0)\n",
            "Collecting linopy (from pommes->pommes_craft)\n",
            "  Downloading linopy-0.5.7-py3-none-any.whl.metadata (9.4 kB)\n",
            "Requirement already satisfied: highspy in /usr/local/lib/python3.12/dist-packages (from pommes->pommes_craft) (1.11.0)\n",
            "Requirement already satisfied: h5netcdf in /usr/local/lib/python3.12/dist-packages (from pommes->pommes_craft) (1.6.4)\n",
            "Requirement already satisfied: six>=1.5 in /usr/local/lib/python3.12/dist-packages (from python-dateutil>=2.7->matplotlib>=3.5.0->pommes_craft) (1.17.0)\n",
            "Requirement already satisfied: h5py in /usr/local/lib/python3.12/dist-packages (from h5netcdf->pommes->pommes_craft) (3.14.0)\n",
            "Requirement already satisfied: scipy in /usr/local/lib/python3.12/dist-packages (from linopy->pommes->pommes_craft) (1.16.2)\n",
            "Requirement already satisfied: bottleneck in /usr/local/lib/python3.12/dist-packages (from linopy->pommes->pommes_craft) (1.4.2)\n",
            "Requirement already satisfied: toolz in /usr/local/lib/python3.12/dist-packages (from linopy->pommes->pommes_craft) (0.12.1)\n",
            "Requirement already satisfied: numexpr in /usr/local/lib/python3.12/dist-packages (from linopy->pommes->pommes_craft) (2.12.1)\n",
            "Requirement already satisfied: dask>=0.18.0 in /usr/local/lib/python3.12/dist-packages (from linopy->pommes->pommes_craft) (2025.5.0)\n",
            "Requirement already satisfied: tqdm in /usr/local/lib/python3.12/dist-packages (from linopy->pommes->pommes_craft) (4.67.1)\n",
            "Collecting deprecation (from linopy->pommes->pommes_craft)\n",
            "  Downloading deprecation-2.1.0-py2.py3-none-any.whl.metadata (4.6 kB)\n",
            "Requirement already satisfied: google-cloud-storage in /usr/local/lib/python3.12/dist-packages (from linopy->pommes->pommes_craft) (2.19.0)\n",
            "Requirement already satisfied: requests in /usr/local/lib/python3.12/dist-packages (from linopy->pommes->pommes_craft) (2.32.4)\n",
            "Requirement already satisfied: pytz>=2020.1 in /usr/local/lib/python3.12/dist-packages (from pandas->pommes->pommes_craft) (2025.2)\n",
            "Requirement already satisfied: tzdata>=2022.7 in /usr/local/lib/python3.12/dist-packages (from pandas->pommes->pommes_craft) (2025.2)\n",
            "Requirement already satisfied: click>=8.1 in /usr/local/lib/python3.12/dist-packages (from dask>=0.18.0->linopy->pommes->pommes_craft) (8.2.1)\n",
            "Requirement already satisfied: cloudpickle>=3.0.0 in /usr/local/lib/python3.12/dist-packages (from dask>=0.18.0->linopy->pommes->pommes_craft) (3.1.1)\n",
            "Requirement already satisfied: fsspec>=2021.09.0 in /usr/local/lib/python3.12/dist-packages (from dask>=0.18.0->linopy->pommes->pommes_craft) (2025.3.0)\n",
            "Requirement already satisfied: partd>=1.4.0 in /usr/local/lib/python3.12/dist-packages (from dask>=0.18.0->linopy->pommes->pommes_craft) (1.4.2)\n",
            "Requirement already satisfied: google-auth<3.0dev,>=2.26.1 in /usr/local/lib/python3.12/dist-packages (from google-cloud-storage->linopy->pommes->pommes_craft) (2.38.0)\n",
            "Requirement already satisfied: google-api-core<3.0.0dev,>=2.15.0 in /usr/local/lib/python3.12/dist-packages (from google-cloud-storage->linopy->pommes->pommes_craft) (2.25.1)\n",
            "Requirement already satisfied: google-cloud-core<3.0dev,>=2.3.0 in /usr/local/lib/python3.12/dist-packages (from google-cloud-storage->linopy->pommes->pommes_craft) (2.4.3)\n",
            "Requirement already satisfied: google-resumable-media>=2.7.2 in /usr/local/lib/python3.12/dist-packages (from google-cloud-storage->linopy->pommes->pommes_craft) (2.7.2)\n",
            "Requirement already satisfied: google-crc32c<2.0dev,>=1.0 in /usr/local/lib/python3.12/dist-packages (from google-cloud-storage->linopy->pommes->pommes_craft) (1.7.1)\n",
            "Requirement already satisfied: charset_normalizer<4,>=2 in /usr/local/lib/python3.12/dist-packages (from requests->linopy->pommes->pommes_craft) (3.4.3)\n",
            "Requirement already satisfied: idna<4,>=2.5 in /usr/local/lib/python3.12/dist-packages (from requests->linopy->pommes->pommes_craft) (3.10)\n",
            "Requirement already satisfied: urllib3<3,>=1.21.1 in /usr/local/lib/python3.12/dist-packages (from requests->linopy->pommes->pommes_craft) (2.5.0)\n",
            "Requirement already satisfied: certifi>=2017.4.17 in /usr/local/lib/python3.12/dist-packages (from requests->linopy->pommes->pommes_craft) (2025.8.3)\n",
            "Requirement already satisfied: googleapis-common-protos<2.0.0,>=1.56.2 in /usr/local/lib/python3.12/dist-packages (from google-api-core<3.0.0dev,>=2.15.0->google-cloud-storage->linopy->pommes->pommes_craft) (1.70.0)\n",
            "Requirement already satisfied: protobuf!=3.20.0,!=3.20.1,!=4.21.0,!=4.21.1,!=4.21.2,!=4.21.3,!=4.21.4,!=4.21.5,<7.0.0,>=3.19.5 in /usr/local/lib/python3.12/dist-packages (from google-api-core<3.0.0dev,>=2.15.0->google-cloud-storage->linopy->pommes->pommes_craft) (5.29.5)\n",
            "Requirement already satisfied: proto-plus<2.0.0,>=1.22.3 in /usr/local/lib/python3.12/dist-packages (from google-api-core<3.0.0dev,>=2.15.0->google-cloud-storage->linopy->pommes->pommes_craft) (1.26.1)\n",
            "Requirement already satisfied: cachetools<6.0,>=2.0.0 in /usr/local/lib/python3.12/dist-packages (from google-auth<3.0dev,>=2.26.1->google-cloud-storage->linopy->pommes->pommes_craft) (5.5.2)\n",
            "Requirement already satisfied: pyasn1-modules>=0.2.1 in /usr/local/lib/python3.12/dist-packages (from google-auth<3.0dev,>=2.26.1->google-cloud-storage->linopy->pommes->pommes_craft) (0.4.2)\n",
            "Requirement already satisfied: rsa<5,>=3.1.4 in /usr/local/lib/python3.12/dist-packages (from google-auth<3.0dev,>=2.26.1->google-cloud-storage->linopy->pommes->pommes_craft) (4.9.1)\n",
            "Requirement already satisfied: locket in /usr/local/lib/python3.12/dist-packages (from partd>=1.4.0->dask>=0.18.0->linopy->pommes->pommes_craft) (1.0.0)\n",
            "Requirement already satisfied: pyasn1<0.7.0,>=0.6.1 in /usr/local/lib/python3.12/dist-packages (from pyasn1-modules>=0.2.1->google-auth<3.0dev,>=2.26.1->google-cloud-storage->linopy->pommes->pommes_craft) (0.6.1)\n",
            "Downloading pommes_craft-0.1.0-py3-none-any.whl (55 kB)\n",
            "\u001b[2K   \u001b[90m━━━━━━━━━━━━━━━━━━━━━━━━━━━━━━━━━━━━━━━━\u001b[0m \u001b[32m55.0/55.0 kB\u001b[0m \u001b[31m2.3 MB/s\u001b[0m eta \u001b[36m0:00:00\u001b[0m\n",
            "\u001b[?25hDownloading pommes-0.2.3-py3-none-any.whl (112 kB)\n",
            "\u001b[2K   \u001b[90m━━━━━━━━━━━━━━━━━━━━━━━━━━━━━━━━━━━━━━━━\u001b[0m \u001b[32m113.0/113.0 kB\u001b[0m \u001b[31m5.5 MB/s\u001b[0m eta \u001b[36m0:00:00\u001b[0m\n",
            "\u001b[?25hDownloading linopy-0.5.7-py3-none-any.whl (103 kB)\n",
            "\u001b[2K   \u001b[90m━━━━━━━━━━━━━━━━━━━━━━━━━━━━━━━━━━━━━━━━\u001b[0m \u001b[32m103.7/103.7 kB\u001b[0m \u001b[31m8.0 MB/s\u001b[0m eta \u001b[36m0:00:00\u001b[0m\n",
            "\u001b[?25hDownloading deprecation-2.1.0-py2.py3-none-any.whl (11 kB)\n",
            "Installing collected packages: deprecation, linopy, pommes, pommes_craft\n",
            "Successfully installed deprecation-2.1.0 linopy-0.5.7 pommes-0.2.3 pommes_craft-0.1.0\n",
            "Collecting pvlib\n",
            "  Downloading pvlib-0.13.0-py3-none-any.whl.metadata (2.9 kB)\n",
            "Requirement already satisfied: numpy>=1.19.3 in /usr/local/lib/python3.12/dist-packages (from pvlib) (2.0.2)\n",
            "Requirement already satisfied: pandas>=1.3.0 in /usr/local/lib/python3.12/dist-packages (from pvlib) (2.2.2)\n",
            "Requirement already satisfied: pytz in /usr/local/lib/python3.12/dist-packages (from pvlib) (2025.2)\n",
            "Requirement already satisfied: requests in /usr/local/lib/python3.12/dist-packages (from pvlib) (2.32.4)\n",
            "Requirement already satisfied: scipy>=1.6.0 in /usr/local/lib/python3.12/dist-packages (from pvlib) (1.16.2)\n",
            "Requirement already satisfied: h5py in /usr/local/lib/python3.12/dist-packages (from pvlib) (3.14.0)\n",
            "Requirement already satisfied: python-dateutil>=2.8.2 in /usr/local/lib/python3.12/dist-packages (from pandas>=1.3.0->pvlib) (2.9.0.post0)\n",
            "Requirement already satisfied: tzdata>=2022.7 in /usr/local/lib/python3.12/dist-packages (from pandas>=1.3.0->pvlib) (2025.2)\n",
            "Requirement already satisfied: charset_normalizer<4,>=2 in /usr/local/lib/python3.12/dist-packages (from requests->pvlib) (3.4.3)\n",
            "Requirement already satisfied: idna<4,>=2.5 in /usr/local/lib/python3.12/dist-packages (from requests->pvlib) (3.10)\n",
            "Requirement already satisfied: urllib3<3,>=1.21.1 in /usr/local/lib/python3.12/dist-packages (from requests->pvlib) (2.5.0)\n",
            "Requirement already satisfied: certifi>=2017.4.17 in /usr/local/lib/python3.12/dist-packages (from requests->pvlib) (2025.8.3)\n",
            "Requirement already satisfied: six>=1.5 in /usr/local/lib/python3.12/dist-packages (from python-dateutil>=2.8.2->pandas>=1.3.0->pvlib) (1.17.0)\n",
            "Downloading pvlib-0.13.0-py3-none-any.whl (19.3 MB)\n",
            "\u001b[2K   \u001b[90m━━━━━━━━━━━━━━━━━━━━━━━━━━━━━━━━━━━━━━━━\u001b[0m \u001b[32m19.3/19.3 MB\u001b[0m \u001b[31m124.8 MB/s\u001b[0m eta \u001b[36m0:00:00\u001b[0m\n",
            "\u001b[?25hInstalling collected packages: pvlib\n",
            "Successfully installed pvlib-0.13.0\n"
          ]
        }
      ]
    },
    {
      "cell_type": "markdown",
      "source": [
        "## Case study 1\n",
        "In this first case study, we suppose that the onsite electrolyser would be powered exclusively by an unlimited PV above nearby industrial rooftops, as the bus deposit is located in a zone with lots of warehouses. We are interested in determining the required PV surface and in evaluating the cost of a 100% renewable and local electricity supply, in a self consumption mode, without any connection to the electricity grid."
      ],
      "metadata": {
        "id": "42HEoKZAa86r"
      },
      "id": "42HEoKZAa86r"
    },
    {
      "cell_type": "markdown",
      "id": "b385999a",
      "metadata": {
        "id": "b385999a"
      },
      "source": [
        "### Data input\n",
        "\n",
        "We need to set the time horizons for the analysis, both for operation and investment problems. In this section we enter all input data needed to generate the input files for the optimization model. We start by importing some libraries."
      ]
    },
    {
      "cell_type": "code",
      "execution_count": 5,
      "id": "0bfa2bfb",
      "metadata": {
        "id": "0bfa2bfb"
      },
      "outputs": [],
      "source": [
        "import numpy as np\n",
        "import polars as pl\n",
        "import pandas as pd\n",
        "import matplotlib.pyplot as plt\n",
        "import requests\n",
        "import seaborn as sns\n",
        "from io import StringIO\n",
        "from copy import copy, deepcopy\n",
        "import copy\n",
        "from pommes_craft import (\n",
        "    test_data_path,\n",
        "    data_path,\n",
        "    EnergyModel,\n",
        "    Area,\n",
        "    Demand,\n",
        "    EconomicHypothesis,\n",
        "    ConversionTechnology,\n",
        "    StorageTechnology,\n",
        "    Link,\n",
        "    NetImport,\n",
        "    TransportTechnology,\n",
        "    Turpe,\n",
        "    TimeStepManager,\n",
        "    Carbon,\n",
        "    Spillage,\n",
        "    LoadShedding\n",
        ")\n",
        "from pvlib.iotools import read_epw\n",
        "import logging\n",
        "import pvlib\n",
        "from pvlib.pvsystem import PVSystem, Array, FixedMount, retrieve_sam\n",
        "from pvlib.location import Location\n",
        "from pvlib.modelchain import ModelChain\n",
        "import matplotlib.dates as mdates\n",
        "from datetime import datetime\n",
        "import matplotlib.ticker as mticker\n",
        "\n",
        "sns.set_style('ticks')\n",
        "\n",
        "logging.basicConfig(\n",
        "    level=logging.ERROR,\n",
        "    format='%(asctime)s - %(levelname)s - %(message)s',\n",
        "    datefmt='%H:%M:%S'\n",
        ")\n",
        "plt.set_loglevel('WARNING')\n"
      ]
    },
    {
      "cell_type": "markdown",
      "id": "a1888209",
      "metadata": {
        "id": "a1888209"
      },
      "source": [
        "#### Basic data\n",
        "\n",
        "Here we define with some basic data, the years over which we are planning our project and the time steps for investment and operation periods. Here we consider an investment on 2020 ( = year_start - year_inv_step) for operation in 2025. By changing year_end we can change range of the planning period.\n"
      ]
    },
    {
      "cell_type": "code",
      "execution_count": 6,
      "id": "957c61dd",
      "metadata": {
        "id": "957c61dd"
      },
      "outputs": [],
      "source": [
        "year_start = 2025  # First year of the operation period\n",
        "year_end = 2050  # Last year of the operation period\n",
        "\n",
        "year_op_step = 10  # Operation period years step\n",
        "year_inv_step = 10  # Operation period years step\n",
        "\n",
        "max_lifetime = 25  # Maximal lifetime of equipment (needed to define the decomissioning period range)\n",
        "\n",
        "year_op = list(range(year_start, year_end + year_op_step, year_op_step))  # List of years where operation will be considered\n",
        "year_inv = list(range(year_start - year_inv_step, year_end, year_inv_step))  # List of years where investments can be made\n",
        "year_dec = list(range(year_start, year_end + max_lifetime + year_inv_step, year_inv_step))\n",
        "\n",
        "hours_step = 6  # Time step for an operation year\n",
        "hours = list(range(0, 8760, hours_step))\n",
        "\n",
        "tech_labels = {\n",
        "    'electrolysis': 'Electrolysis',\n",
        "    'h2_tank': 'H$_2$ storage',\n",
        "    'solar_pv': 'Solar PV',\n",
        "    'h2_trailer': 'H$_2$ trailer'\n",
        "}\n",
        "area_colors = {\n",
        "    \"Cannes\": \"#f4a261\",\n",
        "    \"Thorenc\": \"#2a9d8f\",\n",
        "}"
      ]
    },
    {
      "cell_type": "code",
      "execution_count": 7,
      "id": "5b9afec7",
      "metadata": {
        "id": "5b9afec7"
      },
      "outputs": [],
      "source": [
        "tolerance = 1.e-8\n",
        "\n",
        "solver_options = {\"highs\": {},\n",
        "                  \"mosek\": {\n",
        "                        # Optimizer selection for linear problems\n",
        "                        #     \"MSK_IPAR_OPTIMIZER\": 0,  # 0=free, 1=interior point, 2=primal simplex, 3=dual simplex\n",
        "                        # Performance and resource utilization\n",
        "                        \"MSK_IPAR_NUM_THREADS\": 20,  # Number of threads (0=automatic)\n",
        "                        \"MSK_DPAR_OPTIMIZER_MAX_TIME\": 1000.0,  # Maximum optimization time in seconds\n",
        "                        \"MSK_DPAR_BASIS_REL_TOL_S\": tolerance,\n",
        "                        \"MSK_DPAR_INTPNT_TOL_PFEAS\": tolerance,\n",
        "                        \"MSK_DPAR_INTPNT_TOL_DFEAS\": tolerance,\n",
        "                      }\n",
        "                  }\n",
        "\n",
        "\n",
        "energy_model = EnergyModel(\n",
        "    name=\"cannes_lerins_h2\",\n",
        "    hours=hours,  # 24-hour period\n",
        "    year_ops=year_op,  # Two operation years\n",
        "    year_invs=year_inv,  # Single investment year\n",
        "    year_decs=year_dec,  # Single decommissioning year\n",
        "    modes=[],  # No operation mode\n",
        "    resources=[\"electricity\", \"hydrogen\"],  # Basic resources\n",
        "    hour_types=['base'],\n",
        "    solver_name=\"highs\",\n",
        "    solver_options=solver_options['highs']\n",
        ")"
      ]
    },
    {
      "cell_type": "markdown",
      "id": "2ac57b95",
      "metadata": {
        "id": "2ac57b95"
      },
      "source": [
        "#### Discount and finance rates\n",
        "\n",
        "Discount and finance rates are important parameters to analyse the economics of capital intensive projects.\n",
        "\n",
        "The discount rate is used to discount a future amount back to a reference year (here 2020). The finance rate corresponds to the cost of capital to finance capital expenditures, and is used to annualize them. We consider the finance rate equal to the discount rate. We take a discount/finance rate of 4 % which might be considered quite optimistic given the risk associated with hydrogen mobility projects. 4 % is a quite high value for utility PV projects in Europe, as stated in this IEA analysis."
      ]
    },
    {
      "cell_type": "code",
      "execution_count": 8,
      "id": "850eb8c1",
      "metadata": {
        "id": "850eb8c1"
      },
      "outputs": [],
      "source": [
        "discount_rate = 0.04\n",
        "finance_rate = 0.04\n",
        "reference_year = 2020\n",
        "\n",
        "with energy_model.context():\n",
        "    economics = EconomicHypothesis(\"eco\", discount_rate=discount_rate, year_ref=reference_year, planning_step=year_inv_step)"
      ]
    },
    {
      "cell_type": "markdown",
      "id": "29a7fa4f",
      "metadata": {
        "id": "29a7fa4f"
      },
      "source": [
        "#### Time step definitions\n",
        "\n",
        "We define the time step duration (1h) and operation year duration (8760)"
      ]
    },
    {
      "cell_type": "code",
      "execution_count": 9,
      "id": "7c76594f",
      "metadata": {
        "id": "7c76594f"
      },
      "outputs": [],
      "source": [
        "with energy_model.context():\n",
        "    TimeStepManager(\"ts_m\", time_step_duration=hours_step, operation_year_duration=float(len(hours)))"
      ]
    },
    {
      "cell_type": "markdown",
      "id": "42dac5da",
      "metadata": {
        "id": "42dac5da"
      },
      "source": [
        "#### Areas\n",
        "\n",
        "The study contains one area (node) : Cannes"
      ]
    },
    {
      "cell_type": "code",
      "execution_count": 10,
      "metadata": {
        "id": "Bev_nwImdwAC"
      },
      "outputs": [],
      "source": [
        "area_names = ['Cannes',]\n",
        "\n",
        "with energy_model.context():\n",
        "    areas = {a_name: Area(a_name) for a_name in area_names}\n"
      ],
      "id": "Bev_nwImdwAC"
    },
    {
      "cell_type": "code",
      "execution_count": 11,
      "id": "9a78d675",
      "metadata": {
        "colab": {
          "base_uri": "https://localhost:8080/"
        },
        "id": "9a78d675",
        "outputId": "13290b51-96fc-4477-9892-afa720ad51a8"
      },
      "outputs": [
        {
          "output_type": "execute_result",
          "data": {
            "text/plain": [
              "{'Cannes': <pommes_craft.components.area.Area at 0x7edb1f9f15e0>}"
            ]
          },
          "metadata": {},
          "execution_count": 11
        }
      ],
      "source": [
        "areas"
      ]
    },
    {
      "cell_type": "markdown",
      "id": "3594e332",
      "metadata": {
        "id": "3594e332"
      },
      "source": [
        "#### Conversion Technologies\n",
        "\n",
        "This study considers two conversion technologies : solar PV and electrolysis.\n",
        "\n",
        "For solar PV, we use different investment and fixed costs depending on the region. We obtain the availability of the PV production, i.e. the ratio of the maximum production available to the production capacity, by using the pvlib library with OneClimate epw weather files. PV plants are located at La Roubine bus deposit in Cannes and in Thorenc PV site. PV panels are oriented 160º with respect to the north in Cannes and 180 ºC in Thorenc, and tilted by 35º in both cases."
      ]
    },
    {
      "cell_type": "code",
      "execution_count": 12,
      "id": "befc7b09",
      "metadata": {
        "id": "befc7b09",
        "colab": {
          "base_uri": "https://localhost:8080/",
          "height": 350
        },
        "outputId": "3533a43f-e148-458a-9b45-9a434e3f4a07"
      },
      "outputs": [
        {
          "output_type": "error",
          "ename": "FileNotFoundError",
          "evalue": "[Errno 2] No such file or directory: './Cannes Lerins H2/data/ninja_pv_la_roubine_2019_tilt_35deg_az_160deg.csv'",
          "traceback": [
            "\u001b[0;31m---------------------------------------------------------------------------\u001b[0m",
            "\u001b[0;31mFileNotFoundError\u001b[0m                         Traceback (most recent call last)",
            "\u001b[0;32m/tmp/ipython-input-2411197393.py\u001b[0m in \u001b[0;36m<cell line: 0>\u001b[0;34m()\u001b[0m\n\u001b[1;32m      8\u001b[0m     \u001b[0;32mreturn\u001b[0m \u001b[0mdf_pv\u001b[0m\u001b[0;34m\u001b[0m\u001b[0;34m\u001b[0m\u001b[0m\n\u001b[1;32m      9\u001b[0m \u001b[0;34m\u001b[0m\u001b[0m\n\u001b[0;32m---> 10\u001b[0;31m \u001b[0mdf_pv\u001b[0m \u001b[0;34m=\u001b[0m \u001b[0mimport_renewable_ninja_csv\u001b[0m\u001b[0;34m(\u001b[0m\u001b[0;34m'./Cannes Lerins H2/data/ninja_pv_la_roubine_2019_tilt_35deg_az_160deg.csv'\u001b[0m\u001b[0;34m,\u001b[0m \u001b[0mhours_step\u001b[0m\u001b[0;34m,\u001b[0m \u001b[0;34m'solar_pv'\u001b[0m\u001b[0;34m)\u001b[0m\u001b[0;34m\u001b[0m\u001b[0;34m\u001b[0m\u001b[0m\n\u001b[0m\u001b[1;32m     11\u001b[0m \u001b[0mpv_availability\u001b[0m \u001b[0;34m=\u001b[0m \u001b[0mpl\u001b[0m\u001b[0;34m.\u001b[0m\u001b[0mDataFrame\u001b[0m\u001b[0;34m(\u001b[0m\u001b[0;34m{\u001b[0m\u001b[0;34m'availability'\u001b[0m\u001b[0;34m:\u001b[0m \u001b[0mpl\u001b[0m\u001b[0;34m.\u001b[0m\u001b[0mfrom_pandas\u001b[0m\u001b[0;34m(\u001b[0m\u001b[0mdf_pv\u001b[0m\u001b[0;34m)\u001b[0m\u001b[0;34m,\u001b[0m \u001b[0;34m'hour'\u001b[0m\u001b[0;34m:\u001b[0m \u001b[0mpl\u001b[0m\u001b[0;34m.\u001b[0m\u001b[0mSeries\u001b[0m\u001b[0;34m(\u001b[0m\u001b[0mhours\u001b[0m\u001b[0;34m)\u001b[0m\u001b[0;34m}\u001b[0m\u001b[0;34m)\u001b[0m\u001b[0;34m\u001b[0m\u001b[0;34m\u001b[0m\u001b[0m\n\u001b[1;32m     12\u001b[0m \u001b[0mpv_availability\u001b[0m \u001b[0;34m=\u001b[0m \u001b[0mpl\u001b[0m\u001b[0;34m.\u001b[0m\u001b[0mconcat\u001b[0m\u001b[0;34m(\u001b[0m\u001b[0;34m[\u001b[0m\u001b[0mpv_availability\u001b[0m\u001b[0;34m.\u001b[0m\u001b[0mwith_columns\u001b[0m\u001b[0;34m(\u001b[0m\u001b[0myear_op\u001b[0m\u001b[0;34m=\u001b[0m\u001b[0mpl\u001b[0m\u001b[0;34m.\u001b[0m\u001b[0mlit\u001b[0m\u001b[0;34m(\u001b[0m\u001b[0myear_op\u001b[0m\u001b[0;34m)\u001b[0m\u001b[0;34m.\u001b[0m\u001b[0mcast\u001b[0m\u001b[0;34m(\u001b[0m\u001b[0mpl\u001b[0m\u001b[0;34m.\u001b[0m\u001b[0mInt64\u001b[0m\u001b[0;34m)\u001b[0m\u001b[0;34m)\u001b[0m \u001b[0;32mfor\u001b[0m \u001b[0myear_op\u001b[0m \u001b[0;32min\u001b[0m \u001b[0myear_op\u001b[0m\u001b[0;34m]\u001b[0m\u001b[0;34m)\u001b[0m\u001b[0;34m\u001b[0m\u001b[0;34m\u001b[0m\u001b[0m\n",
            "\u001b[0;32m/tmp/ipython-input-2411197393.py\u001b[0m in \u001b[0;36mimport_renewable_ninja_csv\u001b[0;34m(filePath, hours_step, conversion_tech)\u001b[0m\n\u001b[1;32m      1\u001b[0m \u001b[0;32mdef\u001b[0m \u001b[0mimport_renewable_ninja_csv\u001b[0m\u001b[0;34m(\u001b[0m\u001b[0mfilePath\u001b[0m\u001b[0;34m,\u001b[0m \u001b[0mhours_step\u001b[0m\u001b[0;34m,\u001b[0m \u001b[0mconversion_tech\u001b[0m\u001b[0;34m)\u001b[0m\u001b[0;34m:\u001b[0m\u001b[0;34m\u001b[0m\u001b[0;34m\u001b[0m\u001b[0m\n\u001b[0;32m----> 2\u001b[0;31m     \u001b[0mdf_pv\u001b[0m \u001b[0;34m=\u001b[0m \u001b[0mpd\u001b[0m\u001b[0;34m.\u001b[0m\u001b[0mread_csv\u001b[0m\u001b[0;34m(\u001b[0m\u001b[0mfilePath\u001b[0m\u001b[0;34m,\u001b[0m \u001b[0mheader\u001b[0m\u001b[0;34m=\u001b[0m\u001b[0;36m3\u001b[0m\u001b[0;34m)\u001b[0m\u001b[0;34m\u001b[0m\u001b[0;34m\u001b[0m\u001b[0m\n\u001b[0m\u001b[1;32m      3\u001b[0m \u001b[0;34m\u001b[0m\u001b[0m\n\u001b[1;32m      4\u001b[0m     \u001b[0mdf_pv\u001b[0m\u001b[0;34m.\u001b[0m\u001b[0mdrop\u001b[0m\u001b[0;34m(\u001b[0m\u001b[0mcolumns\u001b[0m\u001b[0;34m=\u001b[0m\u001b[0;34m[\u001b[0m\u001b[0;34m'time'\u001b[0m\u001b[0;34m,\u001b[0m \u001b[0;34m'local_time'\u001b[0m\u001b[0;34m]\u001b[0m\u001b[0;34m,\u001b[0m \u001b[0minplace\u001b[0m\u001b[0;34m=\u001b[0m\u001b[0;32mTrue\u001b[0m\u001b[0;34m)\u001b[0m\u001b[0;34m\u001b[0m\u001b[0;34m\u001b[0m\u001b[0m\n\u001b[1;32m      5\u001b[0m     \u001b[0mdf_pv\u001b[0m\u001b[0;34m.\u001b[0m\u001b[0mrename\u001b[0m\u001b[0;34m(\u001b[0m\u001b[0mcolumns\u001b[0m\u001b[0;34m=\u001b[0m\u001b[0;34m{\u001b[0m\u001b[0;34m'electricity'\u001b[0m\u001b[0;34m:\u001b[0m\u001b[0mconversion_tech\u001b[0m\u001b[0;34m}\u001b[0m\u001b[0;34m,\u001b[0m \u001b[0minplace\u001b[0m\u001b[0;34m=\u001b[0m\u001b[0;32mTrue\u001b[0m\u001b[0;34m)\u001b[0m\u001b[0;34m\u001b[0m\u001b[0;34m\u001b[0m\u001b[0m\n",
            "\u001b[0;32m/usr/local/lib/python3.12/dist-packages/pandas/io/parsers/readers.py\u001b[0m in \u001b[0;36mread_csv\u001b[0;34m(filepath_or_buffer, sep, delimiter, header, names, index_col, usecols, dtype, engine, converters, true_values, false_values, skipinitialspace, skiprows, skipfooter, nrows, na_values, keep_default_na, na_filter, verbose, skip_blank_lines, parse_dates, infer_datetime_format, keep_date_col, date_parser, date_format, dayfirst, cache_dates, iterator, chunksize, compression, thousands, decimal, lineterminator, quotechar, quoting, doublequote, escapechar, comment, encoding, encoding_errors, dialect, on_bad_lines, delim_whitespace, low_memory, memory_map, float_precision, storage_options, dtype_backend)\u001b[0m\n\u001b[1;32m   1024\u001b[0m     \u001b[0mkwds\u001b[0m\u001b[0;34m.\u001b[0m\u001b[0mupdate\u001b[0m\u001b[0;34m(\u001b[0m\u001b[0mkwds_defaults\u001b[0m\u001b[0;34m)\u001b[0m\u001b[0;34m\u001b[0m\u001b[0;34m\u001b[0m\u001b[0m\n\u001b[1;32m   1025\u001b[0m \u001b[0;34m\u001b[0m\u001b[0m\n\u001b[0;32m-> 1026\u001b[0;31m     \u001b[0;32mreturn\u001b[0m \u001b[0m_read\u001b[0m\u001b[0;34m(\u001b[0m\u001b[0mfilepath_or_buffer\u001b[0m\u001b[0;34m,\u001b[0m \u001b[0mkwds\u001b[0m\u001b[0;34m)\u001b[0m\u001b[0;34m\u001b[0m\u001b[0;34m\u001b[0m\u001b[0m\n\u001b[0m\u001b[1;32m   1027\u001b[0m \u001b[0;34m\u001b[0m\u001b[0m\n\u001b[1;32m   1028\u001b[0m \u001b[0;34m\u001b[0m\u001b[0m\n",
            "\u001b[0;32m/usr/local/lib/python3.12/dist-packages/pandas/io/parsers/readers.py\u001b[0m in \u001b[0;36m_read\u001b[0;34m(filepath_or_buffer, kwds)\u001b[0m\n\u001b[1;32m    618\u001b[0m \u001b[0;34m\u001b[0m\u001b[0m\n\u001b[1;32m    619\u001b[0m     \u001b[0;31m# Create the parser.\u001b[0m\u001b[0;34m\u001b[0m\u001b[0;34m\u001b[0m\u001b[0m\n\u001b[0;32m--> 620\u001b[0;31m     \u001b[0mparser\u001b[0m \u001b[0;34m=\u001b[0m \u001b[0mTextFileReader\u001b[0m\u001b[0;34m(\u001b[0m\u001b[0mfilepath_or_buffer\u001b[0m\u001b[0;34m,\u001b[0m \u001b[0;34m**\u001b[0m\u001b[0mkwds\u001b[0m\u001b[0;34m)\u001b[0m\u001b[0;34m\u001b[0m\u001b[0;34m\u001b[0m\u001b[0m\n\u001b[0m\u001b[1;32m    621\u001b[0m \u001b[0;34m\u001b[0m\u001b[0m\n\u001b[1;32m    622\u001b[0m     \u001b[0;32mif\u001b[0m \u001b[0mchunksize\u001b[0m \u001b[0;32mor\u001b[0m \u001b[0miterator\u001b[0m\u001b[0;34m:\u001b[0m\u001b[0;34m\u001b[0m\u001b[0;34m\u001b[0m\u001b[0m\n",
            "\u001b[0;32m/usr/local/lib/python3.12/dist-packages/pandas/io/parsers/readers.py\u001b[0m in \u001b[0;36m__init__\u001b[0;34m(self, f, engine, **kwds)\u001b[0m\n\u001b[1;32m   1618\u001b[0m \u001b[0;34m\u001b[0m\u001b[0m\n\u001b[1;32m   1619\u001b[0m         \u001b[0mself\u001b[0m\u001b[0;34m.\u001b[0m\u001b[0mhandles\u001b[0m\u001b[0;34m:\u001b[0m \u001b[0mIOHandles\u001b[0m \u001b[0;34m|\u001b[0m \u001b[0;32mNone\u001b[0m \u001b[0;34m=\u001b[0m \u001b[0;32mNone\u001b[0m\u001b[0;34m\u001b[0m\u001b[0;34m\u001b[0m\u001b[0m\n\u001b[0;32m-> 1620\u001b[0;31m         \u001b[0mself\u001b[0m\u001b[0;34m.\u001b[0m\u001b[0m_engine\u001b[0m \u001b[0;34m=\u001b[0m \u001b[0mself\u001b[0m\u001b[0;34m.\u001b[0m\u001b[0m_make_engine\u001b[0m\u001b[0;34m(\u001b[0m\u001b[0mf\u001b[0m\u001b[0;34m,\u001b[0m \u001b[0mself\u001b[0m\u001b[0;34m.\u001b[0m\u001b[0mengine\u001b[0m\u001b[0;34m)\u001b[0m\u001b[0;34m\u001b[0m\u001b[0;34m\u001b[0m\u001b[0m\n\u001b[0m\u001b[1;32m   1621\u001b[0m \u001b[0;34m\u001b[0m\u001b[0m\n\u001b[1;32m   1622\u001b[0m     \u001b[0;32mdef\u001b[0m \u001b[0mclose\u001b[0m\u001b[0;34m(\u001b[0m\u001b[0mself\u001b[0m\u001b[0;34m)\u001b[0m \u001b[0;34m->\u001b[0m \u001b[0;32mNone\u001b[0m\u001b[0;34m:\u001b[0m\u001b[0;34m\u001b[0m\u001b[0;34m\u001b[0m\u001b[0m\n",
            "\u001b[0;32m/usr/local/lib/python3.12/dist-packages/pandas/io/parsers/readers.py\u001b[0m in \u001b[0;36m_make_engine\u001b[0;34m(self, f, engine)\u001b[0m\n\u001b[1;32m   1878\u001b[0m                 \u001b[0;32mif\u001b[0m \u001b[0;34m\"b\"\u001b[0m \u001b[0;32mnot\u001b[0m \u001b[0;32min\u001b[0m \u001b[0mmode\u001b[0m\u001b[0;34m:\u001b[0m\u001b[0;34m\u001b[0m\u001b[0;34m\u001b[0m\u001b[0m\n\u001b[1;32m   1879\u001b[0m                     \u001b[0mmode\u001b[0m \u001b[0;34m+=\u001b[0m \u001b[0;34m\"b\"\u001b[0m\u001b[0;34m\u001b[0m\u001b[0;34m\u001b[0m\u001b[0m\n\u001b[0;32m-> 1880\u001b[0;31m             self.handles = get_handle(\n\u001b[0m\u001b[1;32m   1881\u001b[0m                 \u001b[0mf\u001b[0m\u001b[0;34m,\u001b[0m\u001b[0;34m\u001b[0m\u001b[0;34m\u001b[0m\u001b[0m\n\u001b[1;32m   1882\u001b[0m                 \u001b[0mmode\u001b[0m\u001b[0;34m,\u001b[0m\u001b[0;34m\u001b[0m\u001b[0;34m\u001b[0m\u001b[0m\n",
            "\u001b[0;32m/usr/local/lib/python3.12/dist-packages/pandas/io/common.py\u001b[0m in \u001b[0;36mget_handle\u001b[0;34m(path_or_buf, mode, encoding, compression, memory_map, is_text, errors, storage_options)\u001b[0m\n\u001b[1;32m    871\u001b[0m         \u001b[0;32mif\u001b[0m \u001b[0mioargs\u001b[0m\u001b[0;34m.\u001b[0m\u001b[0mencoding\u001b[0m \u001b[0;32mand\u001b[0m \u001b[0;34m\"b\"\u001b[0m \u001b[0;32mnot\u001b[0m \u001b[0;32min\u001b[0m \u001b[0mioargs\u001b[0m\u001b[0;34m.\u001b[0m\u001b[0mmode\u001b[0m\u001b[0;34m:\u001b[0m\u001b[0;34m\u001b[0m\u001b[0;34m\u001b[0m\u001b[0m\n\u001b[1;32m    872\u001b[0m             \u001b[0;31m# Encoding\u001b[0m\u001b[0;34m\u001b[0m\u001b[0;34m\u001b[0m\u001b[0m\n\u001b[0;32m--> 873\u001b[0;31m             handle = open(\n\u001b[0m\u001b[1;32m    874\u001b[0m                 \u001b[0mhandle\u001b[0m\u001b[0;34m,\u001b[0m\u001b[0;34m\u001b[0m\u001b[0;34m\u001b[0m\u001b[0m\n\u001b[1;32m    875\u001b[0m                 \u001b[0mioargs\u001b[0m\u001b[0;34m.\u001b[0m\u001b[0mmode\u001b[0m\u001b[0;34m,\u001b[0m\u001b[0;34m\u001b[0m\u001b[0;34m\u001b[0m\u001b[0m\n",
            "\u001b[0;31mFileNotFoundError\u001b[0m: [Errno 2] No such file or directory: './Cannes Lerins H2/data/ninja_pv_la_roubine_2019_tilt_35deg_az_160deg.csv'"
          ]
        }
      ],
      "source": [
        "def import_renewable_ninja_csv(filePath, hours_step, conversion_tech):\n",
        "    df_pv = pd.read_csv(filePath, header=3)\n",
        "\n",
        "    df_pv.drop(columns=['time', 'local_time'], inplace=True)\n",
        "    df_pv.rename(columns={'electricity':conversion_tech}, inplace=True)\n",
        "    df_pv['hour'] = (df_pv.index / hours_step).astype('int32')\n",
        "    df_pv = df_pv.groupby('hour').mean()\n",
        "    return df_pv\n",
        "\n",
        "df_pv = import_renewable_ninja_csv('./Cannes Lerins H2/data/ninja_pv_la_roubine_2019_tilt_35deg_az_160deg.csv', hours_step, 'solar_pv')\n",
        "pv_availability = pl.DataFrame({'availability': pl.from_pandas(df_pv), 'hour': pl.Series(hours)})\n",
        "pv_availability = pl.concat([pv_availability.with_columns(year_op=pl.lit(year_op).cast(pl.Int64)) for year_op in year_op])"
      ]
    },
    {
      "cell_type": "code",
      "source": [
        "from google.colab import drive\n",
        "drive.mount('/content/drive')"
      ],
      "metadata": {
        "id": "yteHV3phndEX"
      },
      "id": "yteHV3phndEX",
      "execution_count": null,
      "outputs": []
    },
    {
      "cell_type": "code",
      "execution_count": null,
      "id": "5fba4e3e",
      "metadata": {
        "id": "5fba4e3e"
      },
      "outputs": [],
      "source": [
        "interp_years_solar = [2020, 2030, 2040, 2050]\n",
        "\n",
        "common_pv_params = {\n",
        "    \"factor\": {\"electricity\": 1.0},\n",
        "    \"emission_factor\": 0.,\n",
        "    \"variable_cost\": 0.,\n",
        "    \"life_span\": {year: np.interp(year,\n",
        "                                  interp_years_solar,\n",
        "                                  [25, 30, 30, 30])\n",
        "                  for year in year_inv},\n",
        "    \"finance_rate\": finance_rate,\n",
        "    \"power_capacity_investment_max\": 1e6,\n",
        "    \"power_capacity_investment_min\": 0.,\n",
        "    \"power_capacity_min\": 0.,\n",
        "    \"must_run\": 1.,\n",
        "\n",
        "    \"fixed_cost\": {year: np.interp(year,\n",
        "                                   interp_years_solar,\n",
        "                                   [20.e3, 20.e3, 17.e3, 15.e3])\n",
        "                   for year in year_op},\n",
        "}\n",
        "avail_cannes = pv_availability\n",
        "\n",
        "with energy_model.context():\n",
        "    solar_pv_cannes = ConversionTechnology(\n",
        "        name=\"solar_pv\",\n",
        "        power_capacity_max=1e6,\n",
        "        availability=avail_cannes,\n",
        "        invest_cost={year: np.interp(year,\n",
        "                                     interp_years_solar,\n",
        "                                     [1067.e3, 867.e3, 757.e3, 597.e3])\n",
        "                     for year in year_inv},\n",
        "        **common_pv_params\n",
        "    )\n",
        "    areas['Cannes'].add_component(solar_pv_cannes)\n",
        "\n"
      ]
    },
    {
      "cell_type": "markdown",
      "id": "8043bc7a",
      "metadata": {
        "id": "8043bc7a"
      },
      "source": [
        "Then the electrolysis:"
      ]
    },
    {
      "cell_type": "code",
      "execution_count": null,
      "id": "2ce31511",
      "metadata": {
        "id": "2ce31511"
      },
      "outputs": [],
      "source": [
        "LHV_H2 = 33.3\n",
        "\n",
        "electrolysis_capex = {year: 1000 * np.interp(year, [2022,2025,2030,2035,2040,2050],[1596, 1047, 523, 234, 166, 132])\n",
        "                          for year in year_inv} # EUR/MW\n",
        "electrolysis_fixed_opex = {year: 0.04 * 1000 * np.interp(year, [2022,2025,2030,2035,2040,2050],[1596, 1047, 523, 234, 166, 132])\n",
        "                          for year in year_op}   # EUR/MW/yr\n",
        "electrolysis_variable_opex = {year: 4. * 10 / np.interp(year, [2020,2050],[60, 50])\n",
        "                          for year in year_op} # EUR/MWh (Water costs at 4 EUR/m3, 10 L/kgH2)\n",
        "electrolysis_efficiency = {year: LHV_H2/np.interp(year, [2020,2050], [60, 50])\n",
        "                          for year in year_op} # kWhH2 (LHV)/kWhel\n",
        "with energy_model.context():\n",
        "    for area in areas.values():\n",
        "        electrolysis = ConversionTechnology(\n",
        "            name=\"electrolysis\",\n",
        "            factor={\n",
        "                \"electricity\": {year: -1. for year in year_op},\n",
        "                \"hydrogen\": electrolysis_efficiency,\n",
        "            },\n",
        "            emission_factor=0.,\n",
        "            invest_cost=electrolysis_capex,\n",
        "            fixed_cost=electrolysis_fixed_opex,\n",
        "            variable_cost=electrolysis_variable_opex,\n",
        "            life_span=20.,\n",
        "            finance_rate=finance_rate,\n",
        "            power_capacity_investment_max=1000.,\n",
        "            power_capacity_investment_min=0.,\n",
        "            power_capacity_max=1.e6,\n",
        "            power_capacity_min=0.,\n",
        "            must_run=0.,\n",
        "        )\n",
        "        area.add_component(electrolysis)"
      ]
    },
    {
      "cell_type": "markdown",
      "id": "cd2051c1",
      "metadata": {
        "id": "cd2051c1"
      },
      "source": [
        "#### Storage Technologies\n",
        "\n",
        "Hydrogen storage is provided by H2 tank"
      ]
    },
    {
      "cell_type": "code",
      "execution_count": null,
      "id": "41e2152c",
      "metadata": {
        "id": "41e2152c"
      },
      "outputs": [],
      "source": [
        "storage_common_params = {\n",
        "    \"factor_in\": {\"hydrogen\": -1.0, 'electricity': 2. / 33.},\n",
        "    \"factor_out\": {\"hydrogen\": 0.8, 'electricity': 0.},\n",
        "    \"factor_keep\": {\"hydrogen\": 0., 'electricity': 0.},\n",
        "    \"life_span\": 20.,\n",
        "    \"energy_capacity_investment_min\": 0.001,\n",
        "    \"power_capacity_investment_min\": 0.,\n",
        "    \"power_capacity_investment_max\": 100.,\n",
        "    'invest_cost_energy': 5400,\n",
        "    'invest_cost_power': 12600,\n",
        "    'fixed_cost_energy': 0.,\n",
        "    'fixed_cost_power': 0.,\n",
        "    'finance_rate': 0.06,\n",
        "    'dissipation': 0.,\n",
        "}\n",
        "\n",
        "\n",
        "\n",
        "with energy_model.context():\n",
        "    h2_tank_cannes = StorageTechnology(\n",
        "        name=\"h2_tank\",\n",
        "        energy_capacity_investment_max=1e6,\n",
        "        **storage_common_params\n",
        "    )\n",
        "    areas['Cannes'].add_component(h2_tank_cannes)\n"
      ]
    },
    {
      "cell_type": "markdown",
      "id": "8d28244b",
      "metadata": {
        "id": "8d28244b"
      },
      "source": [
        "#### Demand\n",
        "\n",
        "In this section we define the demand for energy resources. In this case, the only demand is for hydrogen, with 800 kgH2 per day in Cannes. There is no hydrogen demand in Thorenc."
      ]
    },
    {
      "cell_type": "code",
      "execution_count": null,
      "id": "bd164c36",
      "metadata": {
        "id": "bd164c36"
      },
      "outputs": [],
      "source": [
        "h2_demand_tons_per_day = 0.800\n",
        "h2_demand_MW = h2_demand_tons_per_day / 24 * LHV_H2\n",
        "\n",
        "demand_dict = {\n",
        "    \"electricity\": {\n",
        "        \"Cannes\": 0.,\n",
        "    },\n",
        "    \"hydrogen\": {\n",
        "        \"Cannes\": h2_demand_MW * hours_step,\n",
        "    }\n",
        "}\n",
        "\n",
        "with energy_model.context():\n",
        "    for area_name, area in areas.items():\n",
        "        for resource, value in demand_dict.items():\n",
        "            demand = Demand(\n",
        "                name=f\"{resource}_{area_name}_demand\",\n",
        "                resource=resource,\n",
        "                demand=value[area_name],\n",
        "            )\n",
        "            area.add_component(demand)\n",
        "\n",
        "            # we allow spillage but not load shedding for electricity and hydrogen\n",
        "\n",
        "            spillage = Spillage(\n",
        "                name=f\"{resource}_{area_name}_spillage\",\n",
        "                resource=resource,\n",
        "                max_capacity=1e6,\n",
        "            )\n",
        "            area.add_component(spillage)\n",
        "\n",
        "            load_shedding = LoadShedding(\n",
        "                name=f\"{resource}_{area_name}_load_shedding\",\n",
        "                resource=resource,\n",
        "                max_capacity=0.,\n",
        "            )\n",
        "            area.add_component(load_shedding)"
      ]
    },
    {
      "cell_type": "markdown",
      "source": [
        "#### Imports\n",
        "We set the maximum imports and exports possible for each resource to zero, as in this case we consider an autonomous hydrogen production."
      ],
      "metadata": {
        "id": "TjxHxEU0l-yO"
      },
      "id": "TjxHxEU0l-yO"
    },
    {
      "cell_type": "code",
      "source": [
        "with energy_model.context():\n",
        "    for area in areas.values():\n",
        "        net_import = NetImport(\n",
        "            name=\"electricity_import\",\n",
        "            resource=\"electricity\",\n",
        "            import_price=0.,\n",
        "            max_yearly_energy_import=0.,\n",
        "            max_yearly_energy_export=0.\n",
        "        )\n",
        "        area.add_component(net_import)\n",
        "\n",
        "        net_import = NetImport(\n",
        "            name=\"hydrogen_import\",\n",
        "            resource=\"hydrogen\",\n",
        "            import_price=0.,\n",
        "            max_yearly_energy_import=0.,\n",
        "            max_yearly_energy_export=0.\n",
        "        )\n",
        "        area.add_component(net_import)"
      ],
      "metadata": {
        "id": "p0HY1EMDmBgl"
      },
      "id": "p0HY1EMDmBgl",
      "execution_count": null,
      "outputs": []
    },
    {
      "cell_type": "markdown",
      "source": [
        "#### Carbon\n",
        "\n",
        "We define a Carbon component to measure the total carbon emissions but do not assign a carbon tax or carbon emission limit. A carbon tax is defined here for the example but since no carbon emitting technologies (on a direct emissions scope) are used, it won't affect us."
      ],
      "metadata": {
        "id": "-i2ckplwiHEP"
      },
      "id": "-i2ckplwiHEP"
    },
    {
      "cell_type": "code",
      "source": [
        "with energy_model.context():\n",
        "    carbon = Carbon(\"carbon\", goal=np.nan, tax=0.05) # EUR/kgCO2eq"
      ],
      "metadata": {
        "id": "bTdeKNmTiEgW"
      },
      "id": "bTdeKNmTiEgW",
      "execution_count": null,
      "outputs": []
    },
    {
      "cell_type": "markdown",
      "source": [
        "### Run model"
      ],
      "metadata": {
        "id": "da_QWdzOvd7s"
      },
      "id": "da_QWdzOvd7s"
    },
    {
      "cell_type": "code",
      "source": [
        "case_1 = deepcopy(energy_model)"
      ],
      "metadata": {
        "id": "dj16NtLaacDN"
      },
      "id": "dj16NtLaacDN",
      "execution_count": null,
      "outputs": []
    },
    {
      "cell_type": "code",
      "execution_count": null,
      "id": "7fd2c7da",
      "metadata": {
        "id": "7fd2c7da"
      },
      "outputs": [],
      "source": [
        "case_1.run()"
      ]
    },
    {
      "cell_type": "code",
      "execution_count": null,
      "id": "098815df",
      "metadata": {
        "id": "098815df"
      },
      "outputs": [],
      "source": [
        "case_1.set_all_results()"
      ]
    },
    {
      "cell_type": "markdown",
      "metadata": {
        "id": "ZO0MnxbbvZF9"
      },
      "source": [
        "###  Results\n",
        "\n",
        "\n",
        "\n",
        "In this section we analyse the obtained results and some key indicators.\n"
      ],
      "id": "ZO0MnxbbvZF9"
    },
    {
      "cell_type": "markdown",
      "source": [
        "\n",
        "#### Installed capacities\n",
        "\n",
        "We start with the installed capacities for the different technologies. We start with electrolysis and solar PV capacities for each area."
      ],
      "metadata": {
        "id": "T36K3h5svz8l"
      },
      "id": "T36K3h5svz8l"
    },
    {
      "cell_type": "code",
      "execution_count": null,
      "metadata": {
        "id": "foettywevZGA"
      },
      "outputs": [],
      "source": [
        "capacities = case_1.get_results('operation', 'power_capacity', [ConversionTechnology])\n",
        "capacities.pivot(on=['area', 'name'], values='value').with_columns(pl.selectors.all().round(2))\n",
        "\n",
        "capacities = capacities.rename({\n",
        "    \"year_op\": \"Year\",\n",
        "    \"value\": \"Installed capacity (MW)\",\n",
        "    \"name\": \"Technology\"\n",
        "})\n",
        "sns.catplot(\n",
        "    data=capacities, x=\"Year\", y=\"Installed capacity (MW)\", hue='Technology', col=\"area\",\n",
        "    kind=\"bar\", height=4, aspect=1.,\n",
        ")\n",
        "sns.despine()"
      ],
      "id": "foettywevZGA"
    },
    {
      "cell_type": "markdown",
      "metadata": {
        "id": "q3xR7YI9vZGA"
      },
      "source": [
        "We show also the H2 storage capacity in both LHV (MWh H2) and mass (tH2) units."
      ],
      "id": "q3xR7YI9vZGA"
    },
    {
      "cell_type": "code",
      "execution_count": null,
      "metadata": {
        "id": "B4JEMrDYvZGA"
      },
      "outputs": [],
      "source": [
        "storage_capacities = case_1.get_results('operation', 'energy_capacity', [StorageTechnology])\n",
        "storage_capacities.drop('name').pivot(on=['area'], values='value').with_columns(pl.selectors.all().round(2))\n",
        "storage_capacities = storage_capacities.with_columns(value=pl.col('value') / 33)\n",
        "\n",
        "storage_capacities = storage_capacities.rename({\n",
        "    \"year_op\": \"Year\",\n",
        "    \"value\": \"Installed storage capacity (tH2)\",\n",
        "    \"name\": \"Technology\",\n",
        "    \"area\": \"Area\"\n",
        "})\n",
        "\n",
        "ax = sns.barplot(data=storage_capacities, x='Year', y='Installed storage capacity (tH2)', hue='Area',\n",
        "                 palette=area_colors.values())\n",
        "sns.despine()"
      ],
      "id": "B4JEMrDYvZGA"
    },
    {
      "cell_type": "markdown",
      "metadata": {
        "id": "YYirCC_SvZGB"
      },
      "source": [
        "#### Load factors\n",
        "We can also check the load factors for different conversion technologies, as well as the storage level along the year. The load factor is defined as the instant power divided by the power capacity."
      ],
      "id": "YYirCC_SvZGB"
    },
    {
      "cell_type": "code",
      "execution_count": null,
      "metadata": {
        "id": "8du35xfcvZGB"
      },
      "outputs": [],
      "source": [
        "capacities = case_1.get_results('operation', 'power_capacity', [ConversionTechnology]).rename(\n",
        "    {'value': 'capacity'})\n",
        "powers = case_1.get_results('operation', 'power', [ConversionTechnology])\n",
        "avg_power = powers.group_by(['year_op', 'area', 'name']).agg(pl.col('value').mean()).rename({'value': 'avg_power'})\n",
        "load_factors = (avg_power\n",
        "                .join(capacities, on=['year_op', 'area', 'name'])\n",
        "                .with_columns(load_factor=pl.col('avg_power') / pl.col('capacity') * 100.)\n",
        "                .drop(['avg_power', 'capacity']))\n",
        "load_factors.pivot(on=['area', 'name'], values='load_factor').with_columns(pl.selectors.all().round(2))\n",
        "\n",
        "ax = sns.barplot(load_factors.filter(pl.col('name') == 'electrolysis'), x='year_op', y='load_factor', hue='area',\n",
        "                 palette=area_colors.values())\n",
        "sns.despine()\n",
        "ax.set_ylabel('Electrolysis load Factor (%)')\n",
        "ax.set_xlabel('Year')"
      ],
      "id": "8du35xfcvZGB"
    },
    {
      "cell_type": "markdown",
      "metadata": {
        "id": "pwrPMlsdvZGB"
      },
      "source": [
        "#### Hydrogen costs\n",
        "Finally, we analyse the project costs. We start by the share of each equipment in the (annualized) CAPEX. We can also check the share of different costs in the OPEX."
      ],
      "id": "pwrPMlsdvZGB"
    },
    {
      "cell_type": "code",
      "execution_count": null,
      "metadata": {
        "id": "jHMecfaHvZGC"
      },
      "outputs": [],
      "source": [
        "capex = case_1.get_results('planning', 'costs').group_by(['year_op', 'name']).agg(pl.col('value').sum())\n",
        "capex.pivot(on='name', values='value').with_columns(pl.selectors.all().round(0))\n",
        "\n",
        "capex = capex.sort(by=['year_op', 'value']).with_columns(value=pl.col('value') * 1.e-3)\n",
        "ax = sns.barplot(data=capex, x='year_op', y='value', hue='name', palette=\"mako\")\n",
        "sns.despine()\n",
        "ax.legend(bbox_to_anchor=(1, 1), frameon=False)\n",
        "ax.set_ylabel('Annual CAPEX (k€)')\n",
        "ax.set_xlabel('Year')"
      ],
      "id": "jHMecfaHvZGC"
    },
    {
      "cell_type": "code",
      "execution_count": null,
      "metadata": {
        "id": "R_LAl7ZivZGC"
      },
      "outputs": [],
      "source": [
        "opex = case_1.get_results('operation', 'costs').with_columns(\n",
        "    name=pl.col(\"name\").fill_null('net_import')).group_by(['year_op', 'name']).agg(pl.col('value').sum())\n",
        "opex.pivot(on=['name'], values='value').with_columns(pl.selectors.all().round(0))\n",
        "\n",
        "opex = opex.sort(by=['year_op', 'value']).with_columns(value=pl.col('value') * 1.e-3)\n",
        "ax = sns.barplot(data=opex, x='year_op', y='value', hue='name', palette=\"mako\")\n",
        "sns.despine()\n",
        "ax.legend(bbox_to_anchor=(1, 1), frameon=False)\n",
        "ax.set_ylabel('Annual OPEX (k€)')\n",
        "ax.set_xlabel('Year')"
      ],
      "id": "R_LAl7ZivZGC"
    },
    {
      "cell_type": "code",
      "source": [
        "totex = (capex\n",
        "         .join(opex, on=['year_op','name'])\n",
        "         .with_columns(totex=pl.col('value') + pl.col('value_right'))\n",
        "         .group_by('year_op').sum())\n",
        "totex = totex.rename({'value':'capex', 'value_right': 'opex'})\n",
        "\n",
        "lcoh = economics.discount_rate.with_columns(h2_annual_prod = h2_demand_tons_per_day * 365)\n",
        "lcoh.with_columns(discounted_annual_prod = pl.col('h2_annual_prod') * (1 - pl.col('discount_rate')) ** (pl.col('year_op') - 2025))\n",
        "\n",
        "lcoh = lcoh.join(totex, on='year_op')\n",
        "for value in ['h2_annual_prod','capex','opex','totex']:\n",
        "  lcoh = lcoh.with_columns((pl.col(value) * (1 - pl.col('discount_rate')) ** (pl.col('year_op') - 2025)).alias('discounted_'+value))\n",
        "lcoh = lcoh.select('discounted_totex').sum() / lcoh.select('discounted_h2_annual_prod').sum()\n",
        "\n",
        "\n",
        "print(f'LCOH is {lcoh.item(0,0):.2f} EUR/kgH2')"
      ],
      "metadata": {
        "id": "F32z8D_3yoaW"
      },
      "id": "F32z8D_3yoaW",
      "execution_count": null,
      "outputs": []
    },
    {
      "cell_type": "markdown",
      "source": [
        "## Case 2\n",
        "In this second case study, we suppose that the solar PV capacity will bee limited to both roof and parking surfaces in the bus deposit, corresponding to 4100 m<sup>2</sup> or 800 kWc. However, the electrolyzer can be also run on grid electricity. We are interested in determining the share of grid electricity used to feed the electrolyzer and in evaluating the cost of the hydrogen produced."
      ],
      "metadata": {
        "id": "vRkJ8FUbgqBI"
      },
      "id": "vRkJ8FUbgqBI"
    },
    {
      "cell_type": "code",
      "source": [
        "def copy_case(old_case):\n",
        "  new_case = deepcopy(old_case)\n",
        "  new_areas = new_case.areas\n",
        "  for component_index, component in enumerate(energy_model.components):\n",
        "    for area_name, old_area in old_case.areas.items():\n",
        "      if component in old_area.components.values():\n",
        "        new_areas[area_name].components[component.name] = new_case.components[component_index]\n",
        "  return new_case, new_areas\n",
        "\n",
        "case_2, areas_case_2 = copy_case(energy_model)"
      ],
      "metadata": {
        "id": "3DCuYOUZZrYT"
      },
      "id": "3DCuYOUZZrYT",
      "execution_count": null,
      "outputs": []
    },
    {
      "cell_type": "markdown",
      "source": [],
      "metadata": {
        "id": "je6zJ6NO5quD"
      },
      "id": "je6zJ6NO5quD"
    },
    {
      "cell_type": "markdown",
      "source": [
        "#### Conversion Technologies\n",
        "PV power capacity is limited to 800 kWc."
      ],
      "metadata": {
        "id": "CeBy1YQ-bLba"
      },
      "id": "CeBy1YQ-bLba"
    },
    {
      "cell_type": "code",
      "source": [
        "case_2.areas, energy_model.areas"
      ],
      "metadata": {
        "id": "ubyKMDYe8inv"
      },
      "id": "ubyKMDYe8inv",
      "execution_count": null,
      "outputs": []
    },
    {
      "cell_type": "code",
      "source": [
        "areas_case_2['Cannes'].components['solar_pv'].power_capacity_max=pl.DataFrame({'year_op':year_op,\n",
        "                                                                        'power_capacity_max':0.8})\n"
      ],
      "metadata": {
        "id": "oWk-CtesbRl1"
      },
      "id": "oWk-CtesbRl1",
      "execution_count": null,
      "outputs": []
    },
    {
      "cell_type": "code",
      "source": [
        "areas_case_2['Cannes'].components"
      ],
      "metadata": {
        "id": "0n0a79HOfTSO"
      },
      "id": "0n0a79HOfTSO",
      "execution_count": null,
      "outputs": []
    },
    {
      "cell_type": "code",
      "source": [
        "energy_model.components"
      ],
      "metadata": {
        "id": "1vUULsZEfQAN"
      },
      "id": "1vUULsZEfQAN",
      "execution_count": null,
      "outputs": []
    },
    {
      "cell_type": "code",
      "source": [
        "case_2.components"
      ],
      "metadata": {
        "id": "GCk0Y4WzmWNC"
      },
      "id": "GCk0Y4WzmWNC",
      "execution_count": null,
      "outputs": []
    },
    {
      "cell_type": "code",
      "source": [
        "case_1.components[3]"
      ],
      "metadata": {
        "id": "W1G-3lcsmm7O"
      },
      "id": "W1G-3lcsmm7O",
      "execution_count": null,
      "outputs": []
    },
    {
      "cell_type": "code",
      "source": [
        "energy_model.components[3]"
      ],
      "metadata": {
        "id": "tf1dQ7O2mq7_"
      },
      "id": "tf1dQ7O2mq7_",
      "execution_count": null,
      "outputs": []
    },
    {
      "cell_type": "code",
      "source": [
        "case_2.components[3].power_capacity_max"
      ],
      "metadata": {
        "id": "Iow1eQKmmJ9_"
      },
      "id": "Iow1eQKmmJ9_",
      "execution_count": null,
      "outputs": []
    },
    {
      "cell_type": "code",
      "source": [
        "areas_case_2['Cannes'].components['solar_pv'].power_capacity_max"
      ],
      "metadata": {
        "id": "G8S_x3QMmSNR"
      },
      "id": "G8S_x3QMmSNR",
      "execution_count": null,
      "outputs": []
    },
    {
      "cell_type": "markdown",
      "id": "27332ad4",
      "metadata": {
        "id": "27332ad4"
      },
      "source": [
        "#### Network costs\n",
        "\n",
        "We define network costs. Although in France those costs vary in time (find more info on TURPE here), here we consider only average constant costs of 5500 EUR/MW/year (fixed cost) and 18 EUR/MWh (variable cost).\n",
        "For having only average constant costs, we set the calendar to base for all the time steps of the year."
      ]
    },
    {
      "cell_type": "code",
      "execution_count": null,
      "id": "ad1230ec",
      "metadata": {
        "id": "ad1230ec"
      },
      "outputs": [],
      "source": [
        "with case_2.context():\n",
        "    turpe = Turpe(\n",
        "        name='turpe',\n",
        "        calendar='base',\n",
        "        fixed_cost=5500.,\n",
        "        variable_cost=18.\n",
        "    )"
      ]
    },
    {
      "cell_type": "markdown",
      "source": [
        "#### Imports\n",
        "In this case, we are able to use electricity form the grid. We must then set electricity prices at the hourly step at which electricity can be purchased. For this, we use French day-ahead electricity prices obtained from the [entsoe Transparency Platform](https://transparency.entsoe.eu), which contains open data for the European electricity markets. The figure below show those prices between 2019 and 2024. The prices change significantly between the 2020 lows (due to COVID-19 pandemics) and the 2022 energy crisis caused by the Russian invasion of Ukraine. We use 2023 price series as a reference scenario.  "
      ],
      "metadata": {
        "id": "bAO69MaBcFTx"
      },
      "id": "bAO69MaBcFTx"
    },
    {
      "cell_type": "code",
      "source": [
        "# Read electricity prices from .csv files\n",
        "electricity_prices = {\n",
        "        year: pd.read_csv('./Cannes Lerins H2/data/Day-ahead Prices_entsoe_{:d}.csv'.format(year)) for year in (2019, 2020,2021, 2022,2023,2024)\n",
        "    }"
      ],
      "metadata": {
        "id": "nYKdSSK0cL3D"
      },
      "id": "nYKdSSK0cL3D",
      "execution_count": null,
      "outputs": []
    },
    {
      "cell_type": "code",
      "source": [
        "# Plot prices time series for different years\n",
        "fig, ax = plt.subplots(1, 6, figsize=(16,3), sharey=True)\n",
        "for k, year in enumerate((2019, 2020, 2021, 2022,2023, 2024)):\n",
        "\n",
        "    ax[k].plot(electricity_prices[year].index, electricity_prices[year]['Day-ahead Price [EUR/MWh]'])\n",
        "    ax[k].set_title('{}\\n{:.0f} EUR/MWh'.format(year,electricity_prices[year]['Day-ahead Price [EUR/MWh]'].mean()))\n",
        "\n",
        "    ax[k].set_xlabel('Hour')\n",
        "    ax[k].set_ylim([-100,1000])\n",
        "    ax[k].set_xlim([0,8760])\n",
        "ax[0].set_ylabel('French electricity\\nday-ahead prices (EUR/MWh)')"
      ],
      "metadata": {
        "id": "7S4Vy9RicUWW"
      },
      "id": "7S4Vy9RicUWW",
      "execution_count": null,
      "outputs": []
    },
    {
      "cell_type": "code",
      "source": [
        "areas_case_2['Cannes'].components['electricity_import'].max_yearly_energy_import=pl.DataFrame({\n",
        "    'year_op':year_op,\n",
        "    'max_yearly_energy_import':1e12,\n",
        "    'area': 'Cannes'\n",
        "  })\n",
        "areas_case_2['Cannes'].components['electricity_import'].max_yearly_energy_exmport=pl.DataFrame({\n",
        "    'year_op':year_op,\n",
        "    'max_yearly_energy_export':1e12,\n",
        "    'area': 'Cannes'\n",
        "  })\n",
        "areas_case_2['Cannes'].components['electricity_import'].import_price = pl.DataFrame(\n",
        "    data = {\n",
        "    'import_price':[hours_step * np.mean(electricity_prices[2023].iloc[hour:hour+hours_step]['Day-ahead Price [EUR/MWh]']) for hour in hours],\n",
        "    'hour':hours,\n",
        "    'area': 'Cannes',}\n",
        "    ).join(other=pl.DataFrame({'year_op':year_op}), how=\"cross\")"
      ],
      "metadata": {
        "id": "f426p3t5cFT0"
      },
      "execution_count": null,
      "outputs": [],
      "id": "f426p3t5cFT0"
    },
    {
      "cell_type": "code",
      "source": [
        "areas_case_2['Cannes'].components['electricity_import'].import_price"
      ],
      "metadata": {
        "id": "cRZPU5OsEReh"
      },
      "id": "cRZPU5OsEReh",
      "execution_count": null,
      "outputs": []
    },
    {
      "cell_type": "code",
      "source": [
        "electricity_prices[2023]['Day-ahead Price [EUR/MWh]'].plot()\n",
        "plt.plot(hours, [np.mean(electricity_prices[2023].iloc[hour:hour+hours_step]['Day-ahead Price [EUR/MWh]']) for hour in hours])\n",
        "plt.plot(hours, areas_case_2['Cannes'].components['electricity_import'].import_price.filter(pl.col('year_op') == 2035).select('import_price'))"
      ],
      "metadata": {
        "id": "Q3CqfmZbBtQ0"
      },
      "id": "Q3CqfmZbBtQ0",
      "execution_count": null,
      "outputs": []
    },
    {
      "cell_type": "code",
      "source": [
        "np.mean([np.mean(electricity_prices[2023].iloc[hour:hour+hours_step]['Day-ahead Price [EUR/MWh]']) for hour in hours]) / 6"
      ],
      "metadata": {
        "id": "EDxNfDo5Hriq"
      },
      "id": "EDxNfDo5Hriq",
      "execution_count": null,
      "outputs": []
    },
    {
      "cell_type": "code",
      "source": [
        "areas_case_2['Cannes'].components['electricity_import'].import_price"
      ],
      "metadata": {
        "id": "w3q-4-5ECUh1"
      },
      "id": "w3q-4-5ECUh1",
      "execution_count": null,
      "outputs": []
    },
    {
      "cell_type": "code",
      "source": [
        "case_3, areas_case_3 = copy_case(case_2)"
      ],
      "metadata": {
        "id": "WyDsNpswmtKI"
      },
      "id": "WyDsNpswmtKI",
      "execution_count": null,
      "outputs": []
    },
    {
      "cell_type": "markdown",
      "source": [
        "### Run model"
      ],
      "metadata": {
        "id": "sWgVNSe7eAad"
      },
      "id": "sWgVNSe7eAad"
    },
    {
      "cell_type": "code",
      "source": [],
      "metadata": {
        "id": "Q-Pni80Nd7jM"
      },
      "execution_count": null,
      "outputs": [],
      "id": "Q-Pni80Nd7jM"
    },
    {
      "cell_type": "code",
      "execution_count": null,
      "metadata": {
        "id": "xPaiEcBld7jP"
      },
      "outputs": [],
      "source": [
        "case_2.run()"
      ],
      "id": "xPaiEcBld7jP"
    },
    {
      "cell_type": "code",
      "execution_count": null,
      "metadata": {
        "id": "jUF7DGXDd7jQ"
      },
      "outputs": [],
      "source": [
        "case_2.set_all_results()"
      ],
      "id": "jUF7DGXDd7jQ"
    },
    {
      "cell_type": "markdown",
      "metadata": {
        "id": "cbTHu2Oxd7jQ"
      },
      "source": [
        "###  Results\n",
        "\n",
        "\n",
        "\n",
        "In this section we analyse the obtained results and some key indicators.\n"
      ],
      "id": "cbTHu2Oxd7jQ"
    },
    {
      "cell_type": "markdown",
      "source": [
        "\n",
        "#### Installed capacities\n",
        "\n",
        "We start with the installed capacities for the different technologies. We start with electrolysis and solar PV capacities for each area."
      ],
      "metadata": {
        "id": "ivb-yDNYd7jQ"
      },
      "id": "ivb-yDNYd7jQ"
    },
    {
      "cell_type": "code",
      "execution_count": null,
      "metadata": {
        "id": "FKkars6Nd7jR"
      },
      "outputs": [],
      "source": [
        "capacities = case_2.get_results('operation', 'power_capacity', [ConversionTechnology])\n",
        "capacities.pivot(on=['area', 'name'], values='value').with_columns(pl.selectors.all().round(2))\n",
        "\n",
        "capacities = capacities.rename({\n",
        "    \"year_op\": \"Year\",\n",
        "    \"value\": \"Installed capacity (MW)\",\n",
        "    \"name\": \"Technology\"\n",
        "})\n",
        "sns.catplot(\n",
        "    data=capacities, x=\"Year\", y=\"Installed capacity (MW)\", hue='Technology', col=\"area\",\n",
        "    kind=\"bar\", height=4, aspect=1.,\n",
        ")\n",
        "sns.despine()"
      ],
      "id": "FKkars6Nd7jR"
    },
    {
      "cell_type": "markdown",
      "metadata": {
        "id": "40clHGQkd7jR"
      },
      "source": [
        "We show also the H2 storage capacity in both LHV (MWh H2) and mass (tH2) units."
      ],
      "id": "40clHGQkd7jR"
    },
    {
      "cell_type": "code",
      "execution_count": null,
      "metadata": {
        "id": "wliy669Yd7jR"
      },
      "outputs": [],
      "source": [
        "storage_capacities = case_2.get_results('operation', 'energy_capacity', [StorageTechnology])\n",
        "storage_capacities.drop('name').pivot(on=['area'], values='value').with_columns(pl.selectors.all().round(2))\n",
        "storage_capacities = storage_capacities.with_columns(value=pl.col('value') / 33)\n",
        "\n",
        "storage_capacities = storage_capacities.rename({\n",
        "    \"year_op\": \"Year\",\n",
        "    \"value\": \"Installed storage capacity (tH2)\",\n",
        "    \"name\": \"Technology\",\n",
        "    \"area\": \"Area\"\n",
        "})\n",
        "\n",
        "ax = sns.barplot(data=storage_capacities, x='Year', y='Installed storage capacity (tH2)', hue='Area',\n",
        "                 palette=area_colors.values())\n",
        "sns.despine()"
      ],
      "id": "wliy669Yd7jR"
    },
    {
      "cell_type": "markdown",
      "metadata": {
        "id": "WJyA5CI4d7jR"
      },
      "source": [
        "#### Load factors\n",
        "We can also check the load factors for different conversion technologies, as well as the storage level along the year. The load factor is defined as the instant power divided by the power capacity."
      ],
      "id": "WJyA5CI4d7jR"
    },
    {
      "cell_type": "code",
      "execution_count": null,
      "metadata": {
        "id": "ztQ8eqfed7jR"
      },
      "outputs": [],
      "source": [
        "capacities = case_2.get_results('operation', 'power_capacity', [ConversionTechnology]).rename(\n",
        "    {'value': 'capacity'})\n",
        "powers = case_2.get_results('operation', 'power', [ConversionTechnology])\n",
        "avg_power = powers.group_by(['year_op', 'area', 'name']).agg(pl.col('value').mean()).rename({'value': 'avg_power'})\n",
        "load_factors = (avg_power\n",
        "                .join(capacities, on=['year_op', 'area', 'name'])\n",
        "                .with_columns(load_factor=pl.col('avg_power') / pl.col('capacity') * 100.)\n",
        "                .drop(['avg_power', 'capacity']))\n",
        "load_factors.pivot(on=['area', 'name'], values='load_factor').with_columns(pl.selectors.all().round(2))\n",
        "\n",
        "ax = sns.barplot(load_factors.filter(pl.col('name') == 'electrolysis'), x='year_op', y='load_factor', hue='area',\n",
        "                 palette=area_colors.values())\n",
        "sns.despine()\n",
        "ax.set_ylabel('Electrolysis load Factor (%)')\n",
        "ax.set_xlabel('Year')"
      ],
      "id": "ztQ8eqfed7jR"
    },
    {
      "cell_type": "markdown",
      "metadata": {
        "id": "IZayVb6-d7jS"
      },
      "source": [
        "#### Hydrogen costs\n",
        "Finally, we analyse the project costs. We start by the share of each equipment in the (annualized) CAPEX. We can also check the share of different costs in the OPEX."
      ],
      "id": "IZayVb6-d7jS"
    },
    {
      "cell_type": "code",
      "execution_count": null,
      "metadata": {
        "id": "dkJc-h93d7jS"
      },
      "outputs": [],
      "source": [
        "capex = case_2.get_results('planning', 'costs').group_by(['year_op', 'name']).agg(pl.col('value').sum())\n",
        "capex.pivot(on='name', values='value').with_columns(pl.selectors.all().round(0))\n",
        "\n",
        "capex = capex.sort(by=['year_op', 'value']).with_columns(value=pl.col('value') * 1.e-3)\n",
        "ax = sns.barplot(data=capex, x='year_op', y='value', hue='name', palette=\"mako\")\n",
        "sns.despine()\n",
        "ax.legend(bbox_to_anchor=(1, 1), frameon=False)\n",
        "ax.set_ylabel('Annual CAPEX (k€)')\n",
        "ax.set_xlabel('Year')"
      ],
      "id": "dkJc-h93d7jS"
    },
    {
      "cell_type": "code",
      "execution_count": null,
      "metadata": {
        "id": "NZY8Qw0Md7jS"
      },
      "outputs": [],
      "source": [
        "opex = case_2.get_results('operation', 'costs').with_columns(\n",
        "    name=pl.col(\"name\").fill_null('net_import')).group_by(['year_op', 'name']).agg(pl.col('value').sum())\n",
        "opex.pivot(on=['name'], values='value').with_columns(pl.selectors.all().round(0))\n",
        "\n",
        "opex = opex.sort(by=['year_op', 'value']).with_columns(value=pl.col('value') * 1.e-3)\n",
        "ax = sns.barplot(data=opex, x='year_op', y='value', hue='name', palette=\"mako\")\n",
        "sns.despine()\n",
        "ax.legend(bbox_to_anchor=(1, 1), frameon=False)\n",
        "ax.set_ylabel('Annual OPEX (k€)')\n",
        "ax.set_xlabel('Year')"
      ],
      "id": "NZY8Qw0Md7jS"
    },
    {
      "cell_type": "code",
      "source": [
        "totex = (capex\n",
        "         .join(opex, on=['year_op','name'], how='right')\n",
        "         .group_by('year_op').sum()).with_columns(totex=pl.col('value') + pl.col('value_right'))\n",
        "totex = totex.rename({'value':'capex', 'value_right': 'opex'})\n",
        "\n",
        "lcoh = economics.discount_rate.with_columns(h2_annual_prod = h2_demand_tons_per_day * 365)\n",
        "lcoh.with_columns(discounted_annual_prod = pl.col('h2_annual_prod') * (1 - pl.col('discount_rate')) ** (pl.col('year_op') - 2025))\n",
        "\n",
        "lcoh = lcoh.join(totex, on='year_op')\n",
        "for value in ['h2_annual_prod','capex','opex','totex']:\n",
        "  lcoh = lcoh.with_columns((pl.col(value) * (1 - pl.col('discount_rate')) ** (pl.col('year_op') - 2025)).alias('discounted_'+value))\n",
        "lcoh = lcoh.select('discounted_totex').sum() / lcoh.select('discounted_h2_annual_prod').sum()\n",
        "\n",
        "\n",
        "print(f'LCOH is {lcoh.item(0,0):.2f} EUR/kgH2')"
      ],
      "metadata": {
        "id": "BuOS6gY-d7jS"
      },
      "execution_count": null,
      "outputs": [],
      "id": "BuOS6gY-d7jS"
    },
    {
      "cell_type": "code",
      "source": [
        "# sol2 = case_2.linopy_model.solution\n",
        "\n",
        "# # Get the electrolysis electrical power for Cannes area\n",
        "# electrolysis_power = case_2.get_results('operation', 'power').filter(pl.col' == '')\n",
        "\n",
        "# # Get the solar PV electrical power for Cannees area\n",
        "# solar_pv_power = sol2['operation_conversion_power'].loc[{'area': 'Cannes', 'conversion_tech':'solar_pv'}].sum('year_op')\n",
        "\n",
        "# # Plot as a function of time for each operation year.\n",
        "# fig, ax = plt.subplots(nrows=len(year_op), ncols=1, figsize=(8,4 * len(year_op)), sharey=True, sharex=True, squeeze=False)\n",
        "\n",
        "# for k, y in enumerate(year_op):\n",
        "#     ax[k,0].set_title(y)\n",
        "#     ax[k,0].plot(hours, solar_pv_power, label='Solar PV')\n",
        "#     ax[k,0].plot(hours, electrolysis_power, label='Water electrolysis')\n",
        "# ax[k,0].set_xlabel('Hour')\n",
        "# ax[k,0].set_ylabel('Power (MW$_{el}$)')\n",
        "# ax[k,0].legend(loc='upper right')\n",
        "\n",
        "# # We can set the limits here to zoom into a particular period of the year\n",
        "# ax[k,0].set_xlim([2000,2400])\n",
        "# fig.tight_layout()"
      ],
      "metadata": {
        "id": "NohV2hNMRbjm"
      },
      "id": "NohV2hNMRbjm",
      "execution_count": null,
      "outputs": []
    },
    {
      "cell_type": "markdown",
      "source": [
        "## Case 3"
      ],
      "metadata": {
        "id": "WVDyjk0qgumv"
      },
      "id": "WVDyjk0qgumv"
    },
    {
      "cell_type": "markdown",
      "id": "ad98c3ac",
      "metadata": {
        "id": "ad98c3ac"
      },
      "source": [
        "## Transport Technologies\n",
        "\n",
        "In this case, we need to set the parameters for the exchange technologies between the two areas, Cannes and Thorenc. We consider a hydrogen tube trailer. The investment cost is calculated from the truck cost, the exchange capacity from the truck capacity and the trip parameters (distance, duration) and the variable cost from both the driver labor cost and fuel costs. We consider a minimum of 1 truck (to avoid unrealistic fractional values lower than 1).\n",
        "\n",
        "Data for the tube trailer is obtained from Laguipo, Forde & Carton. Int. J. Hydrogen Energy (2022)."
      ]
    },
    {
      "cell_type": "code",
      "execution_count": null,
      "id": "cb8cf2e6",
      "metadata": {
        "id": "cb8cf2e6"
      },
      "outputs": [],
      "source": [
        "t_trip = 1.5  # h\n",
        "t_load = 0.75  # h\n",
        "M_trailer = 0.4  # tH2\n",
        "P_truck = M_trailer * LHV_h2 / 2 / (t_trip + t_load)  # MWH2\n",
        "C_truck = 200e3  # EUR\n",
        "C_labor = 27.8  # EUR/h\n",
        "C_diesel = 1.7  # EUR/L\n",
        "diesel_cons_truck = 40. / 100.  # L/km\n",
        "L_trip = 70.  # km\n",
        "\n",
        "# Laguipo, J., Forde, C. & Carton, J. G. Enabling the scale up of green hydrogen in Ireland by decarbonising the haulage sector. Int. J. Hydrogen Energy (2022) doi:10.1016/j.ijhydene.2022.06.053.\n",
        "\n",
        "\n",
        "with energy_model.context():\n",
        "    transport_technology = TransportTechnology(\n",
        "        \"h2_trailer\",\n",
        "        resource=\"hydrogen\",\n",
        "        life_span=15.,\n",
        "        invest_cost=C_truck / P_truck,\n",
        "        fixed_cost=0.02 * C_truck / P_truck,\n",
        "        hurdle_costs=C_labor / P_truck + C_diesel * diesel_cons_truck * (2 * L_trip) / (M_trailer * LHV_h2),\n",
        "        finance_rate=0.06,\n",
        "        power_capacity_investment_max=10 * P_truck,\n",
        "        power_capacity_investment_min=1 * P_truck,\n",
        "    )\n",
        "    link = Link(\n",
        "        name=\"hydrogen_link\",\n",
        "        area_from=areas['Thorenc'],\n",
        "        area_to=areas['Cannes'],\n",
        "    )\n",
        "    link.add_transport_technology(transport_technology)\n"
      ]
    },
    {
      "cell_type": "markdown",
      "id": "9a88214e",
      "metadata": {
        "id": "9a88214e"
      },
      "source": [
        "## Imports\n",
        "\n",
        "In this case, we are able to use electricity form the grid. We must then set electricity prices at the hourly step at which electricity can be purchased. For this, we use French day-ahead electricity prices obtained from the entsoe Transparency Platform, which contains open data for the European electricity markets. The figure below show those prices between 2014 and 2024. The prices change significantly between the 2020 lows (due to COVID-19 pandemics) and the 2022 energy crisis caused by the Russian invasion of Ukraine. We use 2023 price series as a reference scenario."
      ]
    },
    {
      "cell_type": "code",
      "execution_count": null,
      "id": "98ff37bf",
      "metadata": {
        "id": "98ff37bf"
      },
      "outputs": [],
      "source": [
        "fr_price_path = data_path / 'electricity_prices' / 'France.csv'\n",
        "prices_fr = pl.read_csv(fr_price_path)\n",
        "fig, ax = plt.subplots(figsize=(10, 4))\n",
        "plt.plot(prices_fr[\"Datetime (Local)\"].str.to_datetime(),\n",
        "         prices_fr[\"Price (EUR/MWhe)\"], linewidth=0.2)"
      ]
    },
    {
      "cell_type": "code",
      "execution_count": null,
      "id": "1c8a679c",
      "metadata": {
        "id": "1c8a679c"
      },
      "outputs": [],
      "source": [
        "def get_electricity_prices(price_years, year_ops, hours):\n",
        "    fr_price_path = data_path / 'electricity_prices' / 'France.csv'\n",
        "    prices_fr = pl.read_csv(fr_price_path)\n",
        "    prices_fr = prices_fr.with_columns(time_index=pl.col('Datetime (Local)').str.to_datetime())\n",
        "\n",
        "    price_by_year = []\n",
        "\n",
        "    for i, price_year in enumerate(price_years):\n",
        "        year_op = year_ops[i]\n",
        "        print(f\"Price from year {price_year} used for operation year : {year_op}\")\n",
        "        m = pl.col('time_index').dt.year() == price_year\n",
        "        m_2902 = ~((pl.col('time_index').dt.month() == 2) & (pl.col('time_index').dt.day() == 29))\n",
        "        prices_ = prices_fr.filter(m & m_2902)\n",
        "        prices_ = (prices_\n",
        "                   .select('Price (EUR/MWhe)')\n",
        "                   .rename({'Price (EUR/MWhe)': 'import_price'})\n",
        "                   .with_columns(pl.Series('hour', hours), year_op=pl.lit(year_op).cast(pl.Int64)))\n",
        "        price_by_year.append(prices_)\n",
        "\n",
        "    return pl.concat(price_by_year)"
      ]
    },
    {
      "cell_type": "markdown",
      "id": "cf6aefea",
      "metadata": {
        "id": "cf6aefea"
      },
      "source": [
        "We create the polars DataFrame that contains the import prices for each operation year and then we pass it to create the NetImport instance"
      ]
    },
    {
      "cell_type": "code",
      "execution_count": null,
      "id": "4c0ef2e7",
      "metadata": {
        "id": "4c0ef2e7"
      },
      "outputs": [],
      "source": [
        "import_price = get_electricity_prices([2023] * len(year_op), year_op, hours)\n",
        "\n",
        "with energy_model.context():\n",
        "    for area in areas.values():\n",
        "        net_import = NetImport(\n",
        "            name=\"electricity_import\",\n",
        "            resource=\"electricity\",\n",
        "            import_price=import_price,\n",
        "            max_yearly_energy_export=0.\n",
        "        )\n",
        "        area.add_component(net_import)\n",
        "\n",
        "        net_import = NetImport(\n",
        "            name=\"hydrogen_import\",\n",
        "            resource=\"hydrogen\",\n",
        "            import_price=0.,\n",
        "            max_yearly_energy_import=0.,\n",
        "            max_yearly_energy_export=0.\n",
        "        )\n",
        "        area.add_component(net_import)"
      ]
    },
    {
      "cell_type": "markdown",
      "id": "96e3123a",
      "metadata": {
        "id": "96e3123a"
      },
      "source": [
        "## Case study 4\n",
        "\n",
        "In this third case study, we suppose that the solar PV capacity will bee limited to both roof and parking surfaces in the bus deposit, corresponding to 4100 m2 or 800 kWc, and that the electrolyzer can be also run on grid electricity, as in case 2. However, we limit hydrogen storage capacity to 1 ton, to account for regulatory constraints."
      ]
    },
    {
      "cell_type": "markdown",
      "metadata": {
        "id": "hDsAiwzhdgaC"
      },
      "source": [
        "## Areas\n",
        "\n",
        "The study contains two areas : Cannes and Thorenc"
      ],
      "id": "hDsAiwzhdgaC"
    },
    {
      "cell_type": "code",
      "execution_count": null,
      "id": "678c1529",
      "metadata": {
        "id": "678c1529"
      },
      "outputs": [],
      "source": [
        "area_names = ['Cannes', 'Thorenc']\n",
        "\n",
        "with energy_model.context():\n",
        "    areas = {a_name: Area(a_name) for a_name in area_names}\n"
      ]
    },
    {
      "cell_type": "markdown",
      "id": "88c9a28d",
      "metadata": {
        "id": "88c9a28d"
      },
      "source": [
        "##  Results\n",
        "\n",
        "In this section we analyse the obtained results and some key indicators.\n",
        "\n",
        "### Installed capacities\n",
        "\n",
        "We start with the installed capacities for the different technologies. We start with electrolysis and solar PV capacities for each area."
      ]
    },
    {
      "cell_type": "code",
      "execution_count": null,
      "id": "93d005ec-6104-431f-b2b6-6f53b27ed4cc",
      "metadata": {
        "id": "93d005ec-6104-431f-b2b6-6f53b27ed4cc"
      },
      "outputs": [],
      "source": [
        "capacities = energy_model.get_results('operation', 'power_capacity', [ConversionTechnology])\n",
        "capacities.pivot(on=['area', 'name'], values='value').with_columns(pl.selectors.all().round(2))"
      ]
    },
    {
      "cell_type": "code",
      "execution_count": null,
      "id": "0f91a0ba-8dbc-4902-b100-bf6b766c5079",
      "metadata": {
        "id": "0f91a0ba-8dbc-4902-b100-bf6b766c5079"
      },
      "outputs": [],
      "source": [
        "capacities = capacities.rename({\n",
        "    \"year_op\": \"Year\",\n",
        "    \"value\": \"Installed Capacity (MW)\",\n",
        "    \"name\": \"Technology\"\n",
        "})\n",
        "sns.catplot(\n",
        "    data=capacities, x=\"Year\", y=\"Installed Capacity (MW)\", hue='Technology', col=\"area\",\n",
        "    kind=\"bar\", height=4, aspect=1.,\n",
        ")\n",
        "sns.despine()"
      ]
    },
    {
      "cell_type": "markdown",
      "id": "05eefe68",
      "metadata": {
        "id": "05eefe68"
      },
      "source": [
        "We show also the H2 storage capacity in both LHV (MWh H2) and mass (tH2) units."
      ]
    },
    {
      "cell_type": "code",
      "execution_count": null,
      "id": "51cf2558-8a6c-4f20-9bc6-9cb01150542e",
      "metadata": {
        "id": "51cf2558-8a6c-4f20-9bc6-9cb01150542e"
      },
      "outputs": [],
      "source": [
        "storage_capacities = energy_model.get_results('operation', 'energy_capacity', [StorageTechnology])\n",
        "storage_capacities.drop('name').pivot(on=['area'], values='value').with_columns(pl.selectors.all().round(2))"
      ]
    },
    {
      "cell_type": "code",
      "execution_count": null,
      "id": "9fed9cc9-bc2a-4f1d-b5a3-7aabb0d0cbe5",
      "metadata": {
        "id": "9fed9cc9-bc2a-4f1d-b5a3-7aabb0d0cbe5"
      },
      "outputs": [],
      "source": [
        "storage_capacities = storage_capacities.rename({\n",
        "    \"year_op\": \"Year\",\n",
        "    \"value\": \"Installed Capacity (MWh H2)\",\n",
        "    \"name\": \"Technology\"\n",
        "})\n",
        "\n",
        "ax = sns.barplot(data=storage_capacities, x='Year', y='Installed Capacity (MWh H2)', hue='area',\n",
        "                 palette=area_colors.values())\n",
        "sns.despine()"
      ]
    },
    {
      "cell_type": "markdown",
      "id": "e942cb6f",
      "metadata": {
        "id": "e942cb6f"
      },
      "source": [
        "And the tube trailer capacity to transport hydrogen between Thorenc and Cannes."
      ]
    },
    {
      "cell_type": "code",
      "execution_count": null,
      "id": "9eb34fe8-33f8-4f7d-82d6-63d3120a36d6",
      "metadata": {
        "id": "9eb34fe8-33f8-4f7d-82d6-63d3120a36d6"
      },
      "outputs": [],
      "source": [
        "transport_capacities = energy_model.get_results('operation', 'power_capacity', [TransportTechnology])\n",
        "transport_capacities.pivot(on=['name'], values='value').with_columns(\n",
        "    **{\"h2 trailer tH2/day\": pl.col(\"h2_trailer\") / LHV_h2 * 24,\n",
        "       \"Number of trucks\": pl.col(\"h2_trailer\") / P_truck}).with_columns(pl.selectors.all().round(2))"
      ]
    },
    {
      "cell_type": "markdown",
      "id": "24925b98-e151-45f7-a8b0-d544de570b83",
      "metadata": {
        "id": "24925b98-e151-45f7-a8b0-d544de570b83"
      },
      "source": [
        "## Load factors\n",
        "We can also check the load factors for different conversion technologies, as well as the storage level along the year. The load factor is defined as the instant power divided by the power capacity."
      ]
    },
    {
      "cell_type": "code",
      "execution_count": null,
      "id": "56b2c9e7-b2df-4881-a8e0-f20cd9154cd4",
      "metadata": {
        "id": "56b2c9e7-b2df-4881-a8e0-f20cd9154cd4"
      },
      "outputs": [],
      "source": [
        "capacities = energy_model.get_results('operation', 'power_capacity', [ConversionTechnology]).rename(\n",
        "    {'value': 'capacity'})\n",
        "powers = energy_model.get_results('operation', 'power', [ConversionTechnology])\n",
        "avg_power = powers.group_by(['year_op', 'area', 'name']).agg(pl.col('value').mean()).rename({'value': 'avg_power'})\n",
        "load_factors = (avg_power\n",
        "                .join(capacities, on=['year_op', 'area', 'name'])\n",
        "                .with_columns(load_factor=pl.col('avg_power') / pl.col('capacity') * 100.)\n",
        "                .drop(['avg_power', 'capacity']))\n",
        "load_factors.pivot(on=['area', 'name'], values='load_factor').with_columns(pl.selectors.all().round(2))"
      ]
    },
    {
      "cell_type": "code",
      "execution_count": null,
      "id": "f244adc1-b867-4b44-8171-0ec954d1be0e",
      "metadata": {
        "id": "f244adc1-b867-4b44-8171-0ec954d1be0e"
      },
      "outputs": [],
      "source": [
        "ax = sns.barplot(load_factors.filter(pl.col('name') == 'electrolysis'), x='year_op', y='load_factor', hue='area',\n",
        "                 palette=area_colors.values())\n",
        "sns.despine()\n",
        "ax.set_ylabel('Load Factor (%)')\n",
        "ax.set_xlabel('Year')"
      ]
    },
    {
      "cell_type": "markdown",
      "id": "60aa4b54-2024-45c5-9ac5-bd6abc0752fe",
      "metadata": {
        "id": "60aa4b54-2024-45c5-9ac5-bd6abc0752fe"
      },
      "source": [
        "## Hydrogen costs\n",
        "Finally, we analyse the project costs. We start by the share of each equipment in the (annualized) CAPEX. We can also check the share of different costs in the OPEX."
      ]
    },
    {
      "cell_type": "code",
      "execution_count": null,
      "id": "5ca66c89-38f5-40f6-a08e-4d3a691aabbb",
      "metadata": {
        "id": "5ca66c89-38f5-40f6-a08e-4d3a691aabbb"
      },
      "outputs": [],
      "source": [
        "capex = energy_model.get_results('planning', 'costs').group_by(['year_op', 'name']).agg(pl.col('value').sum())\n",
        "capex.pivot(on='name', values='value').with_columns(pl.selectors.all().round(0))"
      ]
    },
    {
      "cell_type": "code",
      "execution_count": null,
      "id": "34fc7562-8ea7-4a66-b0f7-0b475c2f2156",
      "metadata": {
        "id": "34fc7562-8ea7-4a66-b0f7-0b475c2f2156"
      },
      "outputs": [],
      "source": [
        "capex = capex.sort(by=['year_op', 'value']).with_columns(value=pl.col('value') * 1.e-3)\n",
        "ax = sns.barplot(data=capex, x='year_op', y='value', hue='name', palette=\"mako\")\n",
        "sns.despine()\n",
        "ax.legend(bbox_to_anchor=(1, 1), frameon=False)\n",
        "ax.set_ylabel('Capex (in k€)')\n",
        "ax.set_xlabel('Year')"
      ]
    },
    {
      "cell_type": "code",
      "execution_count": null,
      "id": "6e565725-c01a-4c5b-8afa-e3423f7c9b4c",
      "metadata": {
        "id": "6e565725-c01a-4c5b-8afa-e3423f7c9b4c"
      },
      "outputs": [],
      "source": [
        "opex = energy_model.get_results('operation', 'costs').with_columns(\n",
        "    name=pl.col(\"name\").fill_null('net_import')).group_by(['year_op', 'name']).agg(pl.col('value').sum())\n",
        "opex.pivot(on=['name'], values='value').with_columns(pl.selectors.all().round(0))"
      ]
    },
    {
      "cell_type": "code",
      "execution_count": null,
      "id": "3206183b-973c-4699-8cf6-9060868b05c5",
      "metadata": {
        "id": "3206183b-973c-4699-8cf6-9060868b05c5"
      },
      "outputs": [],
      "source": [
        "opex = opex.sort(by=['year_op', 'value']).with_columns(value=pl.col('value') * 1.e-3)\n",
        "ax = sns.barplot(data=opex, x='year_op', y='value', hue='name', palette=\"mako\")\n",
        "sns.despine()\n",
        "ax.legend(bbox_to_anchor=(1, 1), frameon=False)\n",
        "ax.set_ylabel('Opex (in k€)')\n",
        "ax.set_xlabel('Year')"
      ]
    },
    {
      "cell_type": "markdown",
      "id": "5fb9d8de-5c90-4579-90e8-85ddffbd9e26",
      "metadata": {
        "id": "5fb9d8de-5c90-4579-90e8-85ddffbd9e26"
      },
      "source": [
        "We can check the mean price payed for electricity purchased from the grid."
      ]
    },
    {
      "cell_type": "code",
      "execution_count": null,
      "id": "9eb3cdf0-55fb-4211-83a2-ff15cd2eb755",
      "metadata": {
        "id": "9eb3cdf0-55fb-4211-83a2-ff15cd2eb755"
      },
      "outputs": [],
      "source": [
        "total_cost = net_import.results['operation']['costs']['value'].sum() + turpe.results['operation']['fixed_costs'][\n",
        "    'value'].sum() + turpe.results['operation']['variable_costs']['value'].sum()\n",
        "total_imports = net_import.results['operation']['import']['value'].sum()\n",
        "mean_electricity_price = total_cost / total_imports\n",
        "print(\"Mean imported electricity price : {:.1f} EUR/MWh\".format(mean_electricity_price))"
      ]
    },
    {
      "cell_type": "markdown",
      "id": "d90e694d-45c3-4113-9387-8a24684f75d9",
      "metadata": {
        "id": "d90e694d-45c3-4113-9387-8a24684f75d9"
      },
      "source": [
        "We can also check the cost to transport hydrogen from Thorenc to Cannes with tube trailers on EUR/kgH2 basis."
      ]
    },
    {
      "cell_type": "code",
      "execution_count": null,
      "id": "0794b854-8fd8-4778-8401-fef1301e358b",
      "metadata": {
        "id": "0794b854-8fd8-4778-8401-fef1301e358b"
      },
      "outputs": [],
      "source": [
        "total_costs = transport_technology.results['planning']['costs']['value'].sum() + \\\n",
        "              transport_technology.results['operation']['costs']['value'].sum()\n",
        "total_power = transport_technology.results['operation']['power']['value'].sum()\n",
        "print('H2 transport cost: {:.2f} EUR/kgH2'.format(total_costs / total_power / LHV_h2 * 10))\n"
      ]
    }
  ],
  "metadata": {
    "kernelspec": {
      "display_name": "pommes-env",
      "language": "python",
      "name": "python3"
    },
    "language_info": {
      "codemirror_mode": {
        "name": "ipython",
        "version": 3
      },
      "file_extension": ".py",
      "mimetype": "text/x-python",
      "name": "python",
      "nbconvert_exporter": "python",
      "pygments_lexer": "ipython3",
      "version": "3.11.13"
    },
    "colab": {
      "provenance": []
    }
  },
  "nbformat": 4,
  "nbformat_minor": 5
}